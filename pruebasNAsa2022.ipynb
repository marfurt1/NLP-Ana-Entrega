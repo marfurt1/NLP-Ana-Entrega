{
  "cells": [
    {
      "cell_type": "markdown",
      "metadata": {
        "id": "view-in-github",
        "colab_type": "text"
      },
      "source": [
        "<a href=\"https://colab.research.google.com/github/marfurt1/NLP-Ana-Entrega/blob/main/pruebasNAsa2022.ipynb\" target=\"_parent\"><img src=\"https://colab.research.google.com/assets/colab-badge.svg\" alt=\"Open In Colab\"/></a>"
      ]
    },
    {
      "cell_type": "code",
      "execution_count": null,
      "metadata": {
        "id": "E2K-8TOo4dUM"
      },
      "outputs": [],
      "source": [
        "import requests\n",
        "import json"
      ]
    },
    {
      "cell_type": "code",
      "execution_count": null,
      "metadata": {
        "colab": {
          "base_uri": "https://localhost:8080/"
        },
        "id": "db06T_N18GMQ",
        "outputId": "05d292e0-bf80-4deb-8e69-9f05aa916a04"
      },
      "outputs": [
        {
          "name": "stdout",
          "output_type": "stream",
          "text": [
            "https://ntrs.nasa.gov/api/citations/search?center=CDMS\n"
          ]
        }
      ],
      "source": [
        "baseURL = 'https://ntrs.nasa.gov/api'\n",
        "path = '/citations/search?'\n",
        "type_of_search = 'center='\n",
        "term = 'CDMS'\n",
        "search2 = '&stiType='\n",
        "term2 = 'CONFERENCE_PUBLICATION'\n",
        "print(baseURL+path+type_of_search+term)"
      ]
    },
    {
      "cell_type": "markdown",
      "metadata": {
        "id": "cMzfq9QURkK7"
      },
      "source": [
        "PREPRINT  \n",
        "THESIS_DISSERTATION  \n",
        "CONFERENCE_PAPER\n",
        "CONFERENCE_PUBLICATION"
      ]
    },
    {
      "cell_type": "code",
      "execution_count": null,
      "metadata": {
        "id": "JAZaMWF48Wu1"
      },
      "outputs": [],
      "source": [
        "r = requests.get(baseURL+path+type_of_search+term+search2+term2)\n",
        "result = json.loads(r.text)"
      ]
    },
    {
      "cell_type": "markdown",
      "metadata": {
        "id": "GHM4h_AzQyx9"
      },
      "source": [
        "Descarga archivos"
      ]
    },
    {
      "cell_type": "code",
      "execution_count": null,
      "metadata": {
        "colab": {
          "base_uri": "https://localhost:8080/"
        },
        "id": "JwyD2tShxzC3",
        "outputId": "da1ec265-30c8-4799-92f1-e4c3dc7ae311"
      },
      "outputs": [
        {
          "name": "stdout",
          "output_type": "stream",
          "text": [
            "OK - Joint University Program for Air Transportation Research, 1987\n",
            "OK - Abstracts of papers presented at the Eleventh International Laser Radar Conference\n",
            "OK - Controlled ecological life support system - biological problems\n",
            "OK - An assessment model for atmospheric composition\n",
            "OK - Essays on the History of Rocketry and Astronautics: Proceedings of the Third through the Sixth History Symposia of the International Academy of Astronautics, volume 1\n",
            "OK - Workshop on Two-Phase Fluid Behavior in a Space Environment\n",
            "OK - Global stratospheric change: Requirements for a Very-High-Altitude Aircraft for Atmospheric Research\n",
            "OK - Space Station Workstation Technology Workshop Report\n",
            "OK - Standardization, certification, maintenance, and dissemination of large scale engineering software systems\n",
            "OK - Recent Advances in Structures for Hypersonic Flight, part 2\n",
            "OK - Essays on the History of Rocketry and Astronautics: Proceedings of the Third Through the Sixth History Symposia of the International Academy of Astronautics, Volume 2\n",
            "OK - Summary of the NASA/MSFC FY-79 Severe Storm and Local Weather research review\n",
            "OK - The Multispectral Imaging Science Working Group.  Volume 1:  Executive summary\n",
            "OK - Airborne particulate matter in spacecraft\n",
            "OK - Workshop on Technology Development Issues for the Large Deployable Reflector (LDR)\n",
            "OK - The 1st Symposium on Chemical Evolution and the Origin and Evolution of Life\n",
            "OK - Space plasma physics active experiments\n",
            "OK - First Annual High-Speed Research Workshop, part 4\n",
            "OK - Prospects for commercialization of SELV-based in-space operations\n"
          ]
        }
      ],
      "source": [
        "for resultado in result['results']:\n",
        "  if resultado['downloadsAvailable']:\n",
        "    try:\n",
        "      urldownload = 'https://ntrs.nasa.gov' + resultado['downloads'][0]['links']['pdf']\n",
        "      archivo = requests.get(urldownload)\n",
        "      with open('/content/drive/MyDrive/Colab Notebooks/NASA Challenge 2022/Corpus raw/'+str(resultado['id'])+'.pdf','wb') as f:\n",
        "        f.write(archivo.content)\n",
        "        f.close()\n",
        "      print('OK - ' + resultado['title'])\n",
        "    except:\n",
        "      print('ERROR - ' + resultado['title'])"
      ]
    },
    {
      "cell_type": "markdown",
      "metadata": {
        "id": "ZhDx5_lW9DZr"
      },
      "source": [
        "query service"
      ]
    },
    {
      "cell_type": "markdown",
      "source": [
        "https://learn.microsoft.com/en-us/azure/search/query-lucene-syntax"
      ],
      "metadata": {
        "id": "C0azKSCcCoEQ"
      }
    },
    {
      "cell_type": "code",
      "source": [
        "apikey = 'nmexQW2BU4Ua7rdnn2Zn6eGdBKhkRM1LYYfnwLlpcJAzSeAqGYWH'\n",
        "baseURL = 'https://cognitive-search-nasa-space-apps-2022.search.windows.net/indexes/azureblob-index2/docs/search?api-version=2021-04-30-Preview'\n",
        "body = {\n",
        "    #\"search\":  \"people:Tibbitts\",\n",
        "    \"search\":  \"*\",\n",
        "    \"skip\": 0,\n",
        "    \"queryType\": \"full\",\n",
        "    \"searchMode\": \"all\",\n",
        "    \"select\":  \"metadata_storage_name,people,keyphrases,organizations,locations,imageTags\",\n",
        "    \"top\": 10,\n",
        "}\n",
        "\n",
        "headers = {\"Content-Type\": \"application/json\",\n",
        "           \"api-key\": apikey}"
      ],
      "metadata": {
        "id": "s6qvG874lNiR"
      },
      "execution_count": null,
      "outputs": []
    },
    {
      "cell_type": "code",
      "execution_count": null,
      "metadata": {
        "id": "tLlKuLfF9eFX"
      },
      "outputs": [],
      "source": [
        "r = requests.post(baseURL,data=json.dumps(body),headers=headers)\n",
        "resultado = json.loads(r.text)"
      ]
    },
    {
      "cell_type": "code",
      "source": [
        "resultado['value'][5]['metadata_storage_name']"
      ],
      "metadata": {
        "colab": {
          "base_uri": "https://localhost:8080/",
          "height": 35
        },
        "id": "-Hd31yvHeTCa",
        "outputId": "4c886cdd-d7d9-4886-b525-ad4f962b07cd"
      },
      "execution_count": null,
      "outputs": [
        {
          "output_type": "execute_result",
          "data": {
            "text/plain": [
              "'19710001361.pdf'"
            ],
            "application/vnd.google.colaboratory.intrinsic+json": {
              "type": "string"
            }
          },
          "metadata": {},
          "execution_count": 24
        }
      ]
    },
    {
      "cell_type": "code",
      "source": [
        "keyphrases = []\n",
        "for row in resultado['value']:\n",
        "  keyphrases = [*keyphrases, *row['keyphrases']]"
      ],
      "metadata": {
        "id": "AZArf3E4A0ZV"
      },
      "execution_count": null,
      "outputs": []
    },
    {
      "cell_type": "code",
      "source": [
        "import pandas as pd"
      ],
      "metadata": {
        "id": "0X1eOP17dE9B"
      },
      "execution_count": null,
      "outputs": []
    },
    {
      "cell_type": "code",
      "source": [
        "pd.Series(keyphrases).value_counts()[:15]"
      ],
      "metadata": {
        "colab": {
          "base_uri": "https://localhost:8080/"
        },
        "id": "Rl7mcp3D0rRb",
        "outputId": "42aeda13-3206-44b7-a900-b67dfd2ba687"
      },
      "execution_count": null,
      "outputs": [
        {
          "output_type": "execute_result",
          "data": {
            "text/plain": [
              "Figure         24\n",
              "order          19\n",
              "use            17\n",
              "data           17\n",
              "addition       16\n",
              "magnitude      16\n",
              "example        16\n",
              "results        14\n",
              "components     14\n",
              "number         14\n",
              "time           13\n",
              "result         13\n",
              "function       13\n",
              "terms          12\n",
              "information    12\n",
              "dtype: int64"
            ]
          },
          "metadata": {},
          "execution_count": 17
        }
      ]
    },
    {
      "cell_type": "code",
      "source": [],
      "metadata": {
        "id": "Ph6JSNzk3Qxj"
      },
      "execution_count": null,
      "outputs": []
    }
  ],
  "metadata": {
    "colab": {
      "collapsed_sections": [],
      "provenance": [],
      "include_colab_link": true
    },
    "kernelspec": {
      "display_name": "Python 3",
      "name": "python3"
    },
    "language_info": {
      "name": "python"
    }
  },
  "nbformat": 4,
  "nbformat_minor": 0
}