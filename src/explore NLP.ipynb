{
    "cells": [
        {
            "cell_type": "markdown",
            "metadata": {},
            "source": [
                "# NLP Project Tutorial\n",
                "\n",
                "**Objetivo de la tarea:** Crear un detector de spam en URL's usando NLP"
            ]
        },
        {
            "cell_type": "markdown",
            "metadata": {},
            "source": [
                "**Step 1:** Importar y transformar los datos"
            ]
        },
        {
            "cell_type": "markdown",
            "metadata": {},
            "source": [
                "Primero ejecutar en consola: `pip install -r requirements.txt`"
            ]
        },
        {
            "cell_type": "code",
            "execution_count": 72,
            "metadata": {},
            "outputs": [
                {
                    "name": "stdout",
                    "output_type": "stream",
                    "text": [
                        "Requirement already satisfied: pandas in /home/gitpod/.pyenv/versions/3.8.13/lib/python3.8/site-packages (1.4.2)\n",
                        "Requirement already satisfied: numpy>=1.18.5 in /home/gitpod/.pyenv/versions/3.8.13/lib/python3.8/site-packages (from pandas) (1.23.1)\n",
                        "Requirement already satisfied: pytz>=2020.1 in /home/gitpod/.pyenv/versions/3.8.13/lib/python3.8/site-packages (from pandas) (2022.1)\n",
                        "Requirement already satisfied: python-dateutil>=2.8.1 in /home/gitpod/.pyenv/versions/3.8.13/lib/python3.8/site-packages (from pandas) (2.8.2)\n",
                        "Requirement already satisfied: six>=1.5 in /home/gitpod/.pyenv/versions/3.8.13/lib/python3.8/site-packages (from python-dateutil>=2.8.1->pandas) (1.16.0)\n",
                        "\n",
                        "\u001b[1m[\u001b[0m\u001b[34;49mnotice\u001b[0m\u001b[1;39;49m]\u001b[0m\u001b[39;49m A new release of pip available: \u001b[0m\u001b[31;49m22.2\u001b[0m\u001b[39;49m -> \u001b[0m\u001b[32;49m22.2.2\u001b[0m\n",
                        "\u001b[1m[\u001b[0m\u001b[34;49mnotice\u001b[0m\u001b[1;39;49m]\u001b[0m\u001b[39;49m To update, run: \u001b[0m\u001b[32;49mpip install --upgrade pip\u001b[0m\n",
                        "Requirement already satisfied: sklearn in /home/gitpod/.pyenv/versions/3.8.13/lib/python3.8/site-packages (0.0)\n",
                        "Requirement already satisfied: scikit-learn in /home/gitpod/.pyenv/versions/3.8.13/lib/python3.8/site-packages (from sklearn) (1.1.2)\n",
                        "Requirement already satisfied: scipy>=1.3.2 in /home/gitpod/.pyenv/versions/3.8.13/lib/python3.8/site-packages (from scikit-learn->sklearn) (1.9.0)\n",
                        "Requirement already satisfied: joblib>=1.0.0 in /home/gitpod/.pyenv/versions/3.8.13/lib/python3.8/site-packages (from scikit-learn->sklearn) (1.1.0)\n",
                        "Requirement already satisfied: threadpoolctl>=2.0.0 in /home/gitpod/.pyenv/versions/3.8.13/lib/python3.8/site-packages (from scikit-learn->sklearn) (3.1.0)\n",
                        "Requirement already satisfied: numpy>=1.17.3 in /home/gitpod/.pyenv/versions/3.8.13/lib/python3.8/site-packages (from scikit-learn->sklearn) (1.23.1)\n",
                        "\n",
                        "\u001b[1m[\u001b[0m\u001b[34;49mnotice\u001b[0m\u001b[1;39;49m]\u001b[0m\u001b[39;49m A new release of pip available: \u001b[0m\u001b[31;49m22.2\u001b[0m\u001b[39;49m -> \u001b[0m\u001b[32;49m22.2.2\u001b[0m\n",
                        "\u001b[1m[\u001b[0m\u001b[34;49mnotice\u001b[0m\u001b[1;39;49m]\u001b[0m\u001b[39;49m To update, run: \u001b[0m\u001b[32;49mpip install --upgrade pip\u001b[0m\n"
                    ]
                }
            ],
            "source": [
                "# a pesar de ejecutar requirements, debo ejecutar esto para que funcione\n",
                "! pip install pandas\n",
                "! pip install sklearn"
            ]
        },
        {
            "cell_type": "code",
            "execution_count": 73,
            "metadata": {},
            "outputs": [
                {
                    "name": "stdout",
                    "output_type": "stream",
                    "text": [
                        "Requirement already satisfied: sqlalchemy==1.4.37 in /home/gitpod/.pyenv/versions/3.8.13/lib/python3.8/site-packages (from -r ../requirements.txt (line 2)) (1.4.37)\n",
                        "Requirement already satisfied: pymysql==1.0.2 in /home/gitpod/.pyenv/versions/3.8.13/lib/python3.8/site-packages (from -r ../requirements.txt (line 3)) (1.0.2)\n",
                        "Requirement already satisfied: pandas==1.4.2 in /home/gitpod/.pyenv/versions/3.8.13/lib/python3.8/site-packages (from -r ../requirements.txt (line 4)) (1.4.2)\n",
                        "Requirement already satisfied: python-dotenv==0.20.0 in /home/gitpod/.pyenv/versions/3.8.13/lib/python3.8/site-packages (from -r ../requirements.txt (line 5)) (0.20.0)\n",
                        "Requirement already satisfied: psycopg2-binary==2.9.3 in /home/gitpod/.pyenv/versions/3.8.13/lib/python3.8/site-packages (from -r ../requirements.txt (line 6)) (2.9.3)\n",
                        "Requirement already satisfied: requests==2.27.1 in /home/gitpod/.pyenv/versions/3.8.13/lib/python3.8/site-packages (from -r ../requirements.txt (line 7)) (2.27.1)\n",
                        "Requirement already satisfied: numpy>=1.18.5 in /home/gitpod/.pyenv/versions/3.8.13/lib/python3.8/site-packages (from -r ../requirements.txt (line 9)) (1.23.1)\n",
                        "Requirement already satisfied: opencv-python>=4.1.2 in /home/gitpod/.pyenv/versions/3.8.13/lib/python3.8/site-packages (from -r ../requirements.txt (line 10)) (4.6.0.66)\n",
                        "Requirement already satisfied: matplotlib>=3.2.2 in /home/gitpod/.pyenv/versions/3.8.13/lib/python3.8/site-packages (from -r ../requirements.txt (line 11)) (3.5.2)\n",
                        "Requirement already satisfied: ipyleaflet>=0.14.0 in /home/gitpod/.pyenv/versions/3.8.13/lib/python3.8/site-packages (from -r ../requirements.txt (line 12)) (0.17.0)\n",
                        "Requirement already satisfied: sympy>=1.10.1 in /home/gitpod/.pyenv/versions/3.8.13/lib/python3.8/site-packages (from -r ../requirements.txt (line 13)) (1.10.1)\n",
                        "Requirement already satisfied: sklearn in /home/gitpod/.pyenv/versions/3.8.13/lib/python3.8/site-packages (from -r ../requirements.txt (line 16)) (0.0)\n",
                        "Requirement already satisfied: greenlet!=0.4.17 in /home/gitpod/.pyenv/versions/3.8.13/lib/python3.8/site-packages (from sqlalchemy==1.4.37->-r ../requirements.txt (line 2)) (1.1.2)\n",
                        "Requirement already satisfied: pytz>=2020.1 in /home/gitpod/.pyenv/versions/3.8.13/lib/python3.8/site-packages (from pandas==1.4.2->-r ../requirements.txt (line 4)) (2022.1)\n",
                        "Requirement already satisfied: python-dateutil>=2.8.1 in /home/gitpod/.pyenv/versions/3.8.13/lib/python3.8/site-packages (from pandas==1.4.2->-r ../requirements.txt (line 4)) (2.8.2)\n",
                        "Requirement already satisfied: idna<4,>=2.5 in /home/gitpod/.pyenv/versions/3.8.13/lib/python3.8/site-packages (from requests==2.27.1->-r ../requirements.txt (line 7)) (3.3)\n",
                        "Requirement already satisfied: charset-normalizer~=2.0.0 in /home/gitpod/.pyenv/versions/3.8.13/lib/python3.8/site-packages (from requests==2.27.1->-r ../requirements.txt (line 7)) (2.0.12)\n",
                        "Requirement already satisfied: certifi>=2017.4.17 in /home/gitpod/.pyenv/versions/3.8.13/lib/python3.8/site-packages (from requests==2.27.1->-r ../requirements.txt (line 7)) (2022.6.15)\n",
                        "Requirement already satisfied: urllib3<1.27,>=1.21.1 in /home/gitpod/.pyenv/versions/3.8.13/lib/python3.8/site-packages (from requests==2.27.1->-r ../requirements.txt (line 7)) (1.26.11)\n",
                        "Requirement already satisfied: pillow>=6.2.0 in /home/gitpod/.pyenv/versions/3.8.13/lib/python3.8/site-packages (from matplotlib>=3.2.2->-r ../requirements.txt (line 11)) (9.2.0)\n",
                        "Requirement already satisfied: packaging>=20.0 in /home/gitpod/.pyenv/versions/3.8.13/lib/python3.8/site-packages (from matplotlib>=3.2.2->-r ../requirements.txt (line 11)) (21.3)\n",
                        "Requirement already satisfied: cycler>=0.10 in /home/gitpod/.pyenv/versions/3.8.13/lib/python3.8/site-packages (from matplotlib>=3.2.2->-r ../requirements.txt (line 11)) (0.11.0)\n",
                        "Requirement already satisfied: kiwisolver>=1.0.1 in /home/gitpod/.pyenv/versions/3.8.13/lib/python3.8/site-packages (from matplotlib>=3.2.2->-r ../requirements.txt (line 11)) (1.4.4)\n",
                        "Requirement already satisfied: fonttools>=4.22.0 in /home/gitpod/.pyenv/versions/3.8.13/lib/python3.8/site-packages (from matplotlib>=3.2.2->-r ../requirements.txt (line 11)) (4.34.4)\n",
                        "Requirement already satisfied: pyparsing>=2.2.1 in /home/gitpod/.pyenv/versions/3.8.13/lib/python3.8/site-packages (from matplotlib>=3.2.2->-r ../requirements.txt (line 11)) (3.0.9)\n",
                        "Requirement already satisfied: ipywidgets<8,>=7.6.0 in /home/gitpod/.pyenv/versions/3.8.13/lib/python3.8/site-packages (from ipyleaflet>=0.14.0->-r ../requirements.txt (line 12)) (7.7.1)\n",
                        "Requirement already satisfied: traittypes<3,>=0.2.1 in /home/gitpod/.pyenv/versions/3.8.13/lib/python3.8/site-packages (from ipyleaflet>=0.14.0->-r ../requirements.txt (line 12)) (0.2.1)\n",
                        "Requirement already satisfied: xyzservices>=2021.8.1 in /home/gitpod/.pyenv/versions/3.8.13/lib/python3.8/site-packages (from ipyleaflet>=0.14.0->-r ../requirements.txt (line 12)) (2022.6.0)\n",
                        "Requirement already satisfied: mpmath>=0.19 in /home/gitpod/.pyenv/versions/3.8.13/lib/python3.8/site-packages (from sympy>=1.10.1->-r ../requirements.txt (line 13)) (1.2.1)\n",
                        "Requirement already satisfied: scikit-learn in /home/gitpod/.pyenv/versions/3.8.13/lib/python3.8/site-packages (from sklearn->-r ../requirements.txt (line 16)) (1.1.2)\n",
                        "Requirement already satisfied: jupyterlab-widgets>=1.0.0 in /home/gitpod/.pyenv/versions/3.8.13/lib/python3.8/site-packages (from ipywidgets<8,>=7.6.0->ipyleaflet>=0.14.0->-r ../requirements.txt (line 12)) (1.1.1)\n",
                        "Requirement already satisfied: traitlets>=4.3.1 in /home/gitpod/.pyenv/versions/3.8.13/lib/python3.8/site-packages (from ipywidgets<8,>=7.6.0->ipyleaflet>=0.14.0->-r ../requirements.txt (line 12)) (5.3.0)\n",
                        "Requirement already satisfied: ipykernel>=4.5.1 in /home/gitpod/.pyenv/versions/3.8.13/lib/python3.8/site-packages (from ipywidgets<8,>=7.6.0->ipyleaflet>=0.14.0->-r ../requirements.txt (line 12)) (6.15.1)\n",
                        "Requirement already satisfied: ipython>=4.0.0 in /home/gitpod/.pyenv/versions/3.8.13/lib/python3.8/site-packages (from ipywidgets<8,>=7.6.0->ipyleaflet>=0.14.0->-r ../requirements.txt (line 12)) (8.4.0)\n",
                        "Requirement already satisfied: widgetsnbextension~=3.6.0 in /home/gitpod/.pyenv/versions/3.8.13/lib/python3.8/site-packages (from ipywidgets<8,>=7.6.0->ipyleaflet>=0.14.0->-r ../requirements.txt (line 12)) (3.6.1)\n",
                        "Requirement already satisfied: ipython-genutils~=0.2.0 in /home/gitpod/.pyenv/versions/3.8.13/lib/python3.8/site-packages (from ipywidgets<8,>=7.6.0->ipyleaflet>=0.14.0->-r ../requirements.txt (line 12)) (0.2.0)\n",
                        "Requirement already satisfied: six>=1.5 in /home/gitpod/.pyenv/versions/3.8.13/lib/python3.8/site-packages (from python-dateutil>=2.8.1->pandas==1.4.2->-r ../requirements.txt (line 4)) (1.16.0)\n",
                        "Requirement already satisfied: scipy>=1.3.2 in /home/gitpod/.pyenv/versions/3.8.13/lib/python3.8/site-packages (from scikit-learn->sklearn->-r ../requirements.txt (line 16)) (1.9.0)\n",
                        "Requirement already satisfied: joblib>=1.0.0 in /home/gitpod/.pyenv/versions/3.8.13/lib/python3.8/site-packages (from scikit-learn->sklearn->-r ../requirements.txt (line 16)) (1.1.0)\n",
                        "Requirement already satisfied: threadpoolctl>=2.0.0 in /home/gitpod/.pyenv/versions/3.8.13/lib/python3.8/site-packages (from scikit-learn->sklearn->-r ../requirements.txt (line 16)) (3.1.0)\n",
                        "Requirement already satisfied: pyzmq>=17 in /home/gitpod/.pyenv/versions/3.8.13/lib/python3.8/site-packages (from ipykernel>=4.5.1->ipywidgets<8,>=7.6.0->ipyleaflet>=0.14.0->-r ../requirements.txt (line 12)) (23.2.0)\n",
                        "Requirement already satisfied: jupyter-client>=6.1.12 in /home/gitpod/.pyenv/versions/3.8.13/lib/python3.8/site-packages (from ipykernel>=4.5.1->ipywidgets<8,>=7.6.0->ipyleaflet>=0.14.0->-r ../requirements.txt (line 12)) (7.3.4)\n",
                        "Requirement already satisfied: matplotlib-inline>=0.1 in /home/gitpod/.pyenv/versions/3.8.13/lib/python3.8/site-packages (from ipykernel>=4.5.1->ipywidgets<8,>=7.6.0->ipyleaflet>=0.14.0->-r ../requirements.txt (line 12)) (0.1.3)\n",
                        "Requirement already satisfied: tornado>=6.1 in /home/gitpod/.pyenv/versions/3.8.13/lib/python3.8/site-packages (from ipykernel>=4.5.1->ipywidgets<8,>=7.6.0->ipyleaflet>=0.14.0->-r ../requirements.txt (line 12)) (6.2)\n",
                        "Requirement already satisfied: debugpy>=1.0 in /home/gitpod/.pyenv/versions/3.8.13/lib/python3.8/site-packages (from ipykernel>=4.5.1->ipywidgets<8,>=7.6.0->ipyleaflet>=0.14.0->-r ../requirements.txt (line 12)) (1.6.2)\n",
                        "Requirement already satisfied: psutil in /home/gitpod/.pyenv/versions/3.8.13/lib/python3.8/site-packages (from ipykernel>=4.5.1->ipywidgets<8,>=7.6.0->ipyleaflet>=0.14.0->-r ../requirements.txt (line 12)) (5.9.1)\n",
                        "Requirement already satisfied: nest-asyncio in /home/gitpod/.pyenv/versions/3.8.13/lib/python3.8/site-packages (from ipykernel>=4.5.1->ipywidgets<8,>=7.6.0->ipyleaflet>=0.14.0->-r ../requirements.txt (line 12)) (1.5.5)\n",
                        "Requirement already satisfied: pickleshare in /home/gitpod/.pyenv/versions/3.8.13/lib/python3.8/site-packages (from ipython>=4.0.0->ipywidgets<8,>=7.6.0->ipyleaflet>=0.14.0->-r ../requirements.txt (line 12)) (0.7.5)\n",
                        "Requirement already satisfied: pygments>=2.4.0 in /home/gitpod/.pyenv/versions/3.8.13/lib/python3.8/site-packages (from ipython>=4.0.0->ipywidgets<8,>=7.6.0->ipyleaflet>=0.14.0->-r ../requirements.txt (line 12)) (2.12.0)\n",
                        "Requirement already satisfied: decorator in /home/gitpod/.pyenv/versions/3.8.13/lib/python3.8/site-packages (from ipython>=4.0.0->ipywidgets<8,>=7.6.0->ipyleaflet>=0.14.0->-r ../requirements.txt (line 12)) (5.1.1)\n",
                        "Requirement already satisfied: stack-data in /home/gitpod/.pyenv/versions/3.8.13/lib/python3.8/site-packages (from ipython>=4.0.0->ipywidgets<8,>=7.6.0->ipyleaflet>=0.14.0->-r ../requirements.txt (line 12)) (0.3.0)\n",
                        "Requirement already satisfied: pexpect>4.3 in /home/gitpod/.pyenv/versions/3.8.13/lib/python3.8/site-packages (from ipython>=4.0.0->ipywidgets<8,>=7.6.0->ipyleaflet>=0.14.0->-r ../requirements.txt (line 12)) (4.8.0)\n",
                        "Requirement already satisfied: jedi>=0.16 in /home/gitpod/.pyenv/versions/3.8.13/lib/python3.8/site-packages (from ipython>=4.0.0->ipywidgets<8,>=7.6.0->ipyleaflet>=0.14.0->-r ../requirements.txt (line 12)) (0.18.1)\n",
                        "Requirement already satisfied: prompt-toolkit!=3.0.0,!=3.0.1,<3.1.0,>=2.0.0 in /home/gitpod/.pyenv/versions/3.8.13/lib/python3.8/site-packages (from ipython>=4.0.0->ipywidgets<8,>=7.6.0->ipyleaflet>=0.14.0->-r ../requirements.txt (line 12)) (3.0.30)\n",
                        "Requirement already satisfied: backcall in /home/gitpod/.pyenv/versions/3.8.13/lib/python3.8/site-packages (from ipython>=4.0.0->ipywidgets<8,>=7.6.0->ipyleaflet>=0.14.0->-r ../requirements.txt (line 12)) (0.2.0)\n",
                        "Requirement already satisfied: setuptools>=18.5 in /home/gitpod/.pyenv/versions/3.8.13/lib/python3.8/site-packages (from ipython>=4.0.0->ipywidgets<8,>=7.6.0->ipyleaflet>=0.14.0->-r ../requirements.txt (line 12)) (63.2.0)\n",
                        "Requirement already satisfied: notebook>=4.4.1 in /home/gitpod/.pyenv/versions/3.8.13/lib/python3.8/site-packages (from widgetsnbextension~=3.6.0->ipywidgets<8,>=7.6.0->ipyleaflet>=0.14.0->-r ../requirements.txt (line 12)) (6.4.12)\n",
                        "Requirement already satisfied: parso<0.9.0,>=0.8.0 in /home/gitpod/.pyenv/versions/3.8.13/lib/python3.8/site-packages (from jedi>=0.16->ipython>=4.0.0->ipywidgets<8,>=7.6.0->ipyleaflet>=0.14.0->-r ../requirements.txt (line 12)) (0.8.3)\n",
                        "Requirement already satisfied: entrypoints in /home/gitpod/.pyenv/versions/3.8.13/lib/python3.8/site-packages (from jupyter-client>=6.1.12->ipykernel>=4.5.1->ipywidgets<8,>=7.6.0->ipyleaflet>=0.14.0->-r ../requirements.txt (line 12)) (0.4)\n",
                        "Requirement already satisfied: jupyter-core>=4.9.2 in /home/gitpod/.pyenv/versions/3.8.13/lib/python3.8/site-packages (from jupyter-client>=6.1.12->ipykernel>=4.5.1->ipywidgets<8,>=7.6.0->ipyleaflet>=0.14.0->-r ../requirements.txt (line 12)) (4.11.1)\n",
                        "Requirement already satisfied: prometheus-client in /home/gitpod/.pyenv/versions/3.8.13/lib/python3.8/site-packages (from notebook>=4.4.1->widgetsnbextension~=3.6.0->ipywidgets<8,>=7.6.0->ipyleaflet>=0.14.0->-r ../requirements.txt (line 12)) (0.14.1)\n",
                        "Requirement already satisfied: argon2-cffi in /home/gitpod/.pyenv/versions/3.8.13/lib/python3.8/site-packages (from notebook>=4.4.1->widgetsnbextension~=3.6.0->ipywidgets<8,>=7.6.0->ipyleaflet>=0.14.0->-r ../requirements.txt (line 12)) (21.3.0)\n",
                        "Requirement already satisfied: nbconvert>=5 in /home/gitpod/.pyenv/versions/3.8.13/lib/python3.8/site-packages (from notebook>=4.4.1->widgetsnbextension~=3.6.0->ipywidgets<8,>=7.6.0->ipyleaflet>=0.14.0->-r ../requirements.txt (line 12)) (6.5.0)\n",
                        "Requirement already satisfied: nbformat in /home/gitpod/.pyenv/versions/3.8.13/lib/python3.8/site-packages (from notebook>=4.4.1->widgetsnbextension~=3.6.0->ipywidgets<8,>=7.6.0->ipyleaflet>=0.14.0->-r ../requirements.txt (line 12)) (5.4.0)\n",
                        "Requirement already satisfied: terminado>=0.8.3 in /home/gitpod/.pyenv/versions/3.8.13/lib/python3.8/site-packages (from notebook>=4.4.1->widgetsnbextension~=3.6.0->ipywidgets<8,>=7.6.0->ipyleaflet>=0.14.0->-r ../requirements.txt (line 12)) (0.15.0)\n",
                        "Requirement already satisfied: Send2Trash>=1.8.0 in /home/gitpod/.pyenv/versions/3.8.13/lib/python3.8/site-packages (from notebook>=4.4.1->widgetsnbextension~=3.6.0->ipywidgets<8,>=7.6.0->ipyleaflet>=0.14.0->-r ../requirements.txt (line 12)) (1.8.0)\n",
                        "Requirement already satisfied: jinja2 in /home/gitpod/.pyenv/versions/3.8.13/lib/python3.8/site-packages (from notebook>=4.4.1->widgetsnbextension~=3.6.0->ipywidgets<8,>=7.6.0->ipyleaflet>=0.14.0->-r ../requirements.txt (line 12)) (3.1.2)\n",
                        "Requirement already satisfied: ptyprocess>=0.5 in /home/gitpod/.pyenv/versions/3.8.13/lib/python3.8/site-packages (from pexpect>4.3->ipython>=4.0.0->ipywidgets<8,>=7.6.0->ipyleaflet>=0.14.0->-r ../requirements.txt (line 12)) (0.7.0)\n",
                        "Requirement already satisfied: wcwidth in /home/gitpod/.pyenv/versions/3.8.13/lib/python3.8/site-packages (from prompt-toolkit!=3.0.0,!=3.0.1,<3.1.0,>=2.0.0->ipython>=4.0.0->ipywidgets<8,>=7.6.0->ipyleaflet>=0.14.0->-r ../requirements.txt (line 12)) (0.2.5)\n",
                        "Requirement already satisfied: asttokens in /home/gitpod/.pyenv/versions/3.8.13/lib/python3.8/site-packages (from stack-data->ipython>=4.0.0->ipywidgets<8,>=7.6.0->ipyleaflet>=0.14.0->-r ../requirements.txt (line 12)) (2.0.5)\n",
                        "Requirement already satisfied: executing in /home/gitpod/.pyenv/versions/3.8.13/lib/python3.8/site-packages (from stack-data->ipython>=4.0.0->ipywidgets<8,>=7.6.0->ipyleaflet>=0.14.0->-r ../requirements.txt (line 12)) (0.9.0)\n",
                        "Requirement already satisfied: pure-eval in /home/gitpod/.pyenv/versions/3.8.13/lib/python3.8/site-packages (from stack-data->ipython>=4.0.0->ipywidgets<8,>=7.6.0->ipyleaflet>=0.14.0->-r ../requirements.txt (line 12)) (0.2.2)\n",
                        "Requirement already satisfied: beautifulsoup4 in /home/gitpod/.pyenv/versions/3.8.13/lib/python3.8/site-packages (from nbconvert>=5->notebook>=4.4.1->widgetsnbextension~=3.6.0->ipywidgets<8,>=7.6.0->ipyleaflet>=0.14.0->-r ../requirements.txt (line 12)) (4.11.1)\n",
                        "Requirement already satisfied: pandocfilters>=1.4.1 in /home/gitpod/.pyenv/versions/3.8.13/lib/python3.8/site-packages (from nbconvert>=5->notebook>=4.4.1->widgetsnbextension~=3.6.0->ipywidgets<8,>=7.6.0->ipyleaflet>=0.14.0->-r ../requirements.txt (line 12)) (1.5.0)\n",
                        "Requirement already satisfied: tinycss2 in /home/gitpod/.pyenv/versions/3.8.13/lib/python3.8/site-packages (from nbconvert>=5->notebook>=4.4.1->widgetsnbextension~=3.6.0->ipywidgets<8,>=7.6.0->ipyleaflet>=0.14.0->-r ../requirements.txt (line 12)) (1.1.1)\n",
                        "Requirement already satisfied: nbclient>=0.5.0 in /home/gitpod/.pyenv/versions/3.8.13/lib/python3.8/site-packages (from nbconvert>=5->notebook>=4.4.1->widgetsnbextension~=3.6.0->ipywidgets<8,>=7.6.0->ipyleaflet>=0.14.0->-r ../requirements.txt (line 12)) (0.6.6)\n",
                        "Requirement already satisfied: MarkupSafe>=2.0 in /home/gitpod/.pyenv/versions/3.8.13/lib/python3.8/site-packages (from nbconvert>=5->notebook>=4.4.1->widgetsnbextension~=3.6.0->ipywidgets<8,>=7.6.0->ipyleaflet>=0.14.0->-r ../requirements.txt (line 12)) (2.1.1)\n",
                        "Requirement already satisfied: bleach in /home/gitpod/.pyenv/versions/3.8.13/lib/python3.8/site-packages (from nbconvert>=5->notebook>=4.4.1->widgetsnbextension~=3.6.0->ipywidgets<8,>=7.6.0->ipyleaflet>=0.14.0->-r ../requirements.txt (line 12)) (5.0.1)\n",
                        "Requirement already satisfied: defusedxml in /home/gitpod/.pyenv/versions/3.8.13/lib/python3.8/site-packages (from nbconvert>=5->notebook>=4.4.1->widgetsnbextension~=3.6.0->ipywidgets<8,>=7.6.0->ipyleaflet>=0.14.0->-r ../requirements.txt (line 12)) (0.7.1)\n",
                        "Requirement already satisfied: mistune<2,>=0.8.1 in /home/gitpod/.pyenv/versions/3.8.13/lib/python3.8/site-packages (from nbconvert>=5->notebook>=4.4.1->widgetsnbextension~=3.6.0->ipywidgets<8,>=7.6.0->ipyleaflet>=0.14.0->-r ../requirements.txt (line 12)) (0.8.4)\n",
                        "Requirement already satisfied: jupyterlab-pygments in /home/gitpod/.pyenv/versions/3.8.13/lib/python3.8/site-packages (from nbconvert>=5->notebook>=4.4.1->widgetsnbextension~=3.6.0->ipywidgets<8,>=7.6.0->ipyleaflet>=0.14.0->-r ../requirements.txt (line 12)) (0.2.2)\n",
                        "Requirement already satisfied: jsonschema>=2.6 in /home/gitpod/.pyenv/versions/3.8.13/lib/python3.8/site-packages (from nbformat->notebook>=4.4.1->widgetsnbextension~=3.6.0->ipywidgets<8,>=7.6.0->ipyleaflet>=0.14.0->-r ../requirements.txt (line 12)) (4.7.2)\n",
                        "Requirement already satisfied: fastjsonschema in /home/gitpod/.pyenv/versions/3.8.13/lib/python3.8/site-packages (from nbformat->notebook>=4.4.1->widgetsnbextension~=3.6.0->ipywidgets<8,>=7.6.0->ipyleaflet>=0.14.0->-r ../requirements.txt (line 12)) (2.16.1)\n",
                        "Requirement already satisfied: argon2-cffi-bindings in /home/gitpod/.pyenv/versions/3.8.13/lib/python3.8/site-packages (from argon2-cffi->notebook>=4.4.1->widgetsnbextension~=3.6.0->ipywidgets<8,>=7.6.0->ipyleaflet>=0.14.0->-r ../requirements.txt (line 12)) (21.2.0)\n",
                        "Requirement already satisfied: importlib-resources>=1.4.0 in /home/gitpod/.pyenv/versions/3.8.13/lib/python3.8/site-packages (from jsonschema>=2.6->nbformat->notebook>=4.4.1->widgetsnbextension~=3.6.0->ipywidgets<8,>=7.6.0->ipyleaflet>=0.14.0->-r ../requirements.txt (line 12)) (5.9.0)\n",
                        "Requirement already satisfied: attrs>=17.4.0 in /home/gitpod/.pyenv/versions/3.8.13/lib/python3.8/site-packages (from jsonschema>=2.6->nbformat->notebook>=4.4.1->widgetsnbextension~=3.6.0->ipywidgets<8,>=7.6.0->ipyleaflet>=0.14.0->-r ../requirements.txt (line 12)) (21.4.0)\n",
                        "Requirement already satisfied: pyrsistent!=0.17.0,!=0.17.1,!=0.17.2,>=0.14.0 in /home/gitpod/.pyenv/versions/3.8.13/lib/python3.8/site-packages (from jsonschema>=2.6->nbformat->notebook>=4.4.1->widgetsnbextension~=3.6.0->ipywidgets<8,>=7.6.0->ipyleaflet>=0.14.0->-r ../requirements.txt (line 12)) (0.18.1)\n",
                        "Requirement already satisfied: cffi>=1.0.1 in /home/gitpod/.pyenv/versions/3.8.13/lib/python3.8/site-packages (from argon2-cffi-bindings->argon2-cffi->notebook>=4.4.1->widgetsnbextension~=3.6.0->ipywidgets<8,>=7.6.0->ipyleaflet>=0.14.0->-r ../requirements.txt (line 12)) (1.15.1)\n",
                        "Requirement already satisfied: soupsieve>1.2 in /home/gitpod/.pyenv/versions/3.8.13/lib/python3.8/site-packages (from beautifulsoup4->nbconvert>=5->notebook>=4.4.1->widgetsnbextension~=3.6.0->ipywidgets<8,>=7.6.0->ipyleaflet>=0.14.0->-r ../requirements.txt (line 12)) (2.3.2.post1)\n",
                        "Requirement already satisfied: webencodings in /home/gitpod/.pyenv/versions/3.8.13/lib/python3.8/site-packages (from bleach->nbconvert>=5->notebook>=4.4.1->widgetsnbextension~=3.6.0->ipywidgets<8,>=7.6.0->ipyleaflet>=0.14.0->-r ../requirements.txt (line 12)) (0.5.1)\n",
                        "Requirement already satisfied: pycparser in /home/gitpod/.pyenv/versions/3.8.13/lib/python3.8/site-packages (from cffi>=1.0.1->argon2-cffi-bindings->argon2-cffi->notebook>=4.4.1->widgetsnbextension~=3.6.0->ipywidgets<8,>=7.6.0->ipyleaflet>=0.14.0->-r ../requirements.txt (line 12)) (2.21)\n",
                        "Requirement already satisfied: zipp>=3.1.0 in /home/gitpod/.pyenv/versions/3.8.13/lib/python3.8/site-packages (from importlib-resources>=1.4.0->jsonschema>=2.6->nbformat->notebook>=4.4.1->widgetsnbextension~=3.6.0->ipywidgets<8,>=7.6.0->ipyleaflet>=0.14.0->-r ../requirements.txt (line 12)) (3.8.1)\n",
                        "\n",
                        "\u001b[1m[\u001b[0m\u001b[34;49mnotice\u001b[0m\u001b[1;39;49m]\u001b[0m\u001b[39;49m A new release of pip available: \u001b[0m\u001b[31;49m22.2\u001b[0m\u001b[39;49m -> \u001b[0m\u001b[32;49m22.2.2\u001b[0m\n",
                        "\u001b[1m[\u001b[0m\u001b[34;49mnotice\u001b[0m\u001b[1;39;49m]\u001b[0m\u001b[39;49m To update, run: \u001b[0m\u001b[32;49mpip install --upgrade pip\u001b[0m\n"
                    ]
                }
            ],
            "source": [
                "!pip install -r ../requirements.txt"
            ]
        },
        {
            "cell_type": "code",
            "execution_count": 74,
            "metadata": {},
            "outputs": [],
            "source": [
                "# importo librerias\n",
                "import pandas as pd\n",
                "import pickle\n",
                "import numpy as np\n",
                "import re\n",
                "import unicodedata\n",
                "from sklearn.feature_extraction.text import CountVectorizer\n",
                "from sklearn.model_selection import train_test_split\n",
                "from sklearn.svm import SVC\n",
                "from sklearn.metrics import classification_report\n",
                "from sklearn.model_selection import GridSearchCV\n",
                "from sklearn.metrics import confusion_matrix\n",
                "\n",
                "\n"
            ]
        },
        {
            "cell_type": "markdown",
            "metadata": {},
            "source": [
                "Load Data"
            ]
        },
        {
            "cell_type": "code",
            "execution_count": 75,
            "metadata": {},
            "outputs": [],
            "source": [
                "url = \"https://raw.githubusercontent.com/4GeeksAcademy/NLP-project-tutorial/main/url_spam.csv\"\n",
                "df_raw = pd.read_csv(url)"
            ]
        },
        {
            "cell_type": "code",
            "execution_count": 76,
            "metadata": {},
            "outputs": [
                {
                    "data": {
                        "text/html": [
                            "<div>\n",
                            "<style scoped>\n",
                            "    .dataframe tbody tr th:only-of-type {\n",
                            "        vertical-align: middle;\n",
                            "    }\n",
                            "\n",
                            "    .dataframe tbody tr th {\n",
                            "        vertical-align: top;\n",
                            "    }\n",
                            "\n",
                            "    .dataframe thead th {\n",
                            "        text-align: right;\n",
                            "    }\n",
                            "</style>\n",
                            "<table border=\"1\" class=\"dataframe\">\n",
                            "  <thead>\n",
                            "    <tr style=\"text-align: right;\">\n",
                            "      <th></th>\n",
                            "      <th>url</th>\n",
                            "      <th>is_spam</th>\n",
                            "    </tr>\n",
                            "  </thead>\n",
                            "  <tbody>\n",
                            "    <tr>\n",
                            "      <th>0</th>\n",
                            "      <td>https://briefingday.us8.list-manage.com/unsubs...</td>\n",
                            "      <td>True</td>\n",
                            "    </tr>\n",
                            "    <tr>\n",
                            "      <th>1</th>\n",
                            "      <td>https://www.hvper.com/</td>\n",
                            "      <td>True</td>\n",
                            "    </tr>\n",
                            "    <tr>\n",
                            "      <th>2</th>\n",
                            "      <td>https://briefingday.com/m/v4n3i4f3</td>\n",
                            "      <td>True</td>\n",
                            "    </tr>\n",
                            "    <tr>\n",
                            "      <th>3</th>\n",
                            "      <td>https://briefingday.com/n/20200618/m#commentform</td>\n",
                            "      <td>False</td>\n",
                            "    </tr>\n",
                            "    <tr>\n",
                            "      <th>4</th>\n",
                            "      <td>https://briefingday.com/fan</td>\n",
                            "      <td>True</td>\n",
                            "    </tr>\n",
                            "  </tbody>\n",
                            "</table>\n",
                            "</div>"
                        ],
                        "text/plain": [
                            "                                                 url  is_spam\n",
                            "0  https://briefingday.us8.list-manage.com/unsubs...     True\n",
                            "1                             https://www.hvper.com/     True\n",
                            "2                 https://briefingday.com/m/v4n3i4f3     True\n",
                            "3   https://briefingday.com/n/20200618/m#commentform    False\n",
                            "4                        https://briefingday.com/fan     True"
                        ]
                    },
                    "execution_count": 76,
                    "metadata": {},
                    "output_type": "execute_result"
                }
            ],
            "source": [
                "df_raw.head()"
            ]
        },
        {
            "cell_type": "code",
            "execution_count": 77,
            "metadata": {},
            "outputs": [
                {
                    "name": "stdout",
                    "output_type": "stream",
                    "text": [
                        "<class 'pandas.core.frame.DataFrame'>\n",
                        "RangeIndex: 2999 entries, 0 to 2998\n",
                        "Data columns (total 2 columns):\n",
                        " #   Column   Non-Null Count  Dtype \n",
                        "---  ------   --------------  ----- \n",
                        " 0   url      2999 non-null   object\n",
                        " 1   is_spam  2999 non-null   bool  \n",
                        "dtypes: bool(1), object(1)\n",
                        "memory usage: 26.5+ KB\n"
                    ]
                }
            ],
            "source": [
                "df_raw.info()"
            ]
        },
        {
            "cell_type": "markdown",
            "metadata": {},
            "source": [
                "El dataset contiene 2999 filas (URL's) y 2 columnas: la URL y si es o no es spam"
            ]
        },
        {
            "cell_type": "code",
            "execution_count": 78,
            "metadata": {},
            "outputs": [
                {
                    "data": {
                        "text/plain": [
                            "False    2303\n",
                            "True      696\n",
                            "Name: is_spam, dtype: int64"
                        ]
                    },
                    "execution_count": 78,
                    "metadata": {},
                    "output_type": "execute_result"
                }
            ],
            "source": [
                "df_raw['is_spam'].value_counts()"
            ]
        },
        {
            "cell_type": "code",
            "execution_count": 79,
            "metadata": {},
            "outputs": [
                {
                    "name": "stdout",
                    "output_type": "stream",
                    "text": [
                        "Number of duplicated rows: 630\n"
                    ]
                },
                {
                    "data": {
                        "text/plain": [
                            "False    2125\n",
                            "True      244\n",
                            "Name: is_spam, dtype: int64"
                        ]
                    },
                    "execution_count": 79,
                    "metadata": {},
                    "output_type": "execute_result"
                }
            ],
            "source": [
                "# Check duplicates\n",
                "print('Number of duplicated rows:',df_raw.duplicated().sum())  \n",
                "df_raw = df_raw.drop_duplicates().reset_index(drop = True)\n",
                "df_raw['is_spam'].value_counts()\n",
                "#doubt: the data is more unbalanced \n",
                "#clean 452 spam, and only 178 not spam\n"
            ]
        },
        {
            "cell_type": "markdown",
            "metadata": {},
            "source": [
                "\n",
                "PREPROCESS"
            ]
        },
        {
            "cell_type": "code",
            "execution_count": 80,
            "metadata": {},
            "outputs": [],
            "source": [
                "df = df_raw.copy()"
            ]
        },
        {
            "cell_type": "code",
            "execution_count": 81,
            "metadata": {},
            "outputs": [
                {
                    "name": "stdout",
                    "output_type": "stream",
                    "text": [
                        "<class 'pandas.core.frame.DataFrame'>\n",
                        "RangeIndex: 2369 entries, 0 to 2368\n",
                        "Data columns (total 2 columns):\n",
                        " #   Column   Non-Null Count  Dtype \n",
                        "---  ------   --------------  ----- \n",
                        " 0   url      2369 non-null   object\n",
                        " 1   is_spam  2369 non-null   bool  \n",
                        "dtypes: bool(1), object(1)\n",
                        "memory usage: 20.9+ KB\n"
                    ]
                }
            ],
            "source": [
                "df.info()"
            ]
        },
        {
            "cell_type": "code",
            "execution_count": 82,
            "metadata": {},
            "outputs": [],
            "source": [
                "def clean_data(urlData):\n",
                "  \n",
                "    #remove punctuation, digit, simbols\n",
                "    urlData = re.sub('[^a-zA-Z]', ' ', urlData)\n",
                "    \n",
                "    #duplicate space\n",
                "    urlData = re.sub(r'\\s+', ' ',  urlData)\n",
                "    #urlData=\" \".join(urlData.split())\n",
                "\n",
                "    urlData = re.sub(r'\\b[a-zA-Z]\\b', ' ',urlData)  #\\b word boundary\n",
                "\n",
                "    urlData = urlData.strip()   #remove space on right and left include tab\n",
                "    return urlData\n",
                "\n",
                "\n",
                "df['url'] = df['url'].str.lower() \n",
                "#clean-data\n",
                "df['url'] = df['url'].apply(clean_data)\n",
                "\n",
                "#fuction to reove stopwords\n",
                "stopWord = ['is','you','your','and', 'the', 'to', 'from', 'or', 'I', 'for', 'do', 'get', 'not', 'here', 'in', 'im', 'have', 'on',\n",
                "'re', 'https', 'com', 'of']  \n",
                "\n",
                "def remove_stopwords(urlData):\n",
                "  if urlData is not None:\n",
                "    words = urlData.strip().split()\n",
                "    words_filtered = []\n",
                "    for word in words:\n",
                "      if word not in stopWord:\n",
                "        words_filtered.append(word)\n",
                "    result = \" \".join(words_filtered) #hace un join elemento por elemento separados por espacio\n",
                "  else:\n",
                "      result = None\n",
                "  return result\n",
                "\n",
                "df['url'] = df['url'].apply(remove_stopwords)"
            ]
        },
        {
            "cell_type": "code",
            "execution_count": 83,
            "metadata": {},
            "outputs": [],
            "source": [
                "# varias funciones\n",
                "\n",
                "def comas(text):\n",
                "    \"\"\"\n",
                "    Elimina comas del texto\n",
                "    \"\"\"\n",
                "    return re.sub(',', ' ', text)\n",
                "\n",
                "def espacios(text):\n",
                "    \"\"\"\n",
                "    Elimina enters dobles por un solo enter\n",
                "    \"\"\"\n",
                "    return re.sub(r'(\\n{2,})','\\n', text)\n",
                "\n",
                "def minuscula(text):\n",
                "    \"\"\"\n",
                "    Cambia mayusculas a minusculas\n",
                "    \"\"\"\n",
                "    return text.lower()\n",
                "\n",
                "def numeros(text):\n",
                "    \"\"\"\n",
                "    Sustituye los numeros\n",
                "    \"\"\"\n",
                "    return re.sub('([\\d]+)', ' ', text)\n",
                "\n",
                "def caracteres_no_alfanumericos(text):\n",
                "    \"\"\"\n",
                "    Sustituye caracteres raros, no digitos y letras\n",
                "    Ej. hola 'pepito' como le va? -> hola pepito como le va\n",
                "    \"\"\"\n",
                "    return re.sub(\"(\\\\W)+\",\" \",text)\n",
                "\n",
                "def comillas(text):\n",
                "    \"\"\"\n",
                "    Sustituye comillas por un espacio\n",
                "    Ej. hola 'pepito' como le va? -> hola pepito como le va?\n",
                "    \"\"\"\n",
                "    return re.sub(\"'\",\" \", text)\n",
                "\n",
                "def palabras_repetidas(text):\n",
                "    \"\"\"\n",
                "    Sustituye palabras repetidas\n",
                "\n",
                "    Ej. hola hola, como les va? a a ustedes -> hola, como les va? a ustedes\n",
                "    \"\"\"\n",
                "    return re.sub(r'\\b(\\w+)( \\1\\b)+', r'\\1', text)\n",
                "\n",
                "def esp_multiple(text):\n",
                "    \"\"\"\n",
                "    Sustituye los espacios dobles entre palabras\n",
                "    \"\"\"\n",
                "    return re.sub(' +', ' ',text)\n",
                "\n",
                "\n",
                "\n",
                "#df['texto_limpio'] = df['texto'].apply(espacios).apply(comas).apply(url).apply(minuscula).apply(esp_multiple).apply(comillas)\n",
                "\n",
                "#df['texto_limpio'].values[:]\n",
                "\n",
                "\n"
            ]
        },
        {
            "cell_type": "code",
            "execution_count": 84,
            "metadata": {},
            "outputs": [
                {
                    "data": {
                        "text/plain": [
                            "'  '"
                        ]
                    },
                    "execution_count": 84,
                    "metadata": {},
                    "output_type": "execute_result"
                }
            ],
            "source": [
                "'/'\n",
                "'.'\n",
                "'  '\n"
            ]
        },
        {
            "cell_type": "code",
            "execution_count": 85,
            "metadata": {},
            "outputs": [],
            "source": [
                "# funcón para eliminar https\n",
                "def url(text):\n",
                "    return re.sub(r'(https://www|https://)', '', text)"
            ]
        },
        {
            "cell_type": "code",
            "execution_count": 86,
            "metadata": {},
            "outputs": [],
            "source": [
                "# se limpia url\n",
                "df['url_limpia'] = df['url'].apply(url).apply(caracteres_no_alfanumericos).apply(esp_multiple)"
            ]
        },
        {
            "cell_type": "code",
            "execution_count": 87,
            "metadata": {},
            "outputs": [
                {
                    "data": {
                        "text/html": [
                            "<div>\n",
                            "<style scoped>\n",
                            "    .dataframe tbody tr th:only-of-type {\n",
                            "        vertical-align: middle;\n",
                            "    }\n",
                            "\n",
                            "    .dataframe tbody tr th {\n",
                            "        vertical-align: top;\n",
                            "    }\n",
                            "\n",
                            "    .dataframe thead th {\n",
                            "        text-align: right;\n",
                            "    }\n",
                            "</style>\n",
                            "<table border=\"1\" class=\"dataframe\">\n",
                            "  <thead>\n",
                            "    <tr style=\"text-align: right;\">\n",
                            "      <th></th>\n",
                            "      <th>url</th>\n",
                            "      <th>is_spam</th>\n",
                            "      <th>url_limpia</th>\n",
                            "    </tr>\n",
                            "  </thead>\n",
                            "  <tbody>\n",
                            "    <tr>\n",
                            "      <th>0</th>\n",
                            "      <td>briefingday us list manage unsubscribe</td>\n",
                            "      <td>True</td>\n",
                            "      <td>briefingday us list manage unsubscribe</td>\n",
                            "    </tr>\n",
                            "    <tr>\n",
                            "      <th>1</th>\n",
                            "      <td>www hvper</td>\n",
                            "      <td>True</td>\n",
                            "      <td>www hvper</td>\n",
                            "    </tr>\n",
                            "    <tr>\n",
                            "      <th>2</th>\n",
                            "      <td>briefingday</td>\n",
                            "      <td>True</td>\n",
                            "      <td>briefingday</td>\n",
                            "    </tr>\n",
                            "    <tr>\n",
                            "      <th>3</th>\n",
                            "      <td>briefingday commentform</td>\n",
                            "      <td>False</td>\n",
                            "      <td>briefingday commentform</td>\n",
                            "    </tr>\n",
                            "    <tr>\n",
                            "      <th>4</th>\n",
                            "      <td>briefingday fan</td>\n",
                            "      <td>True</td>\n",
                            "      <td>briefingday fan</td>\n",
                            "    </tr>\n",
                            "  </tbody>\n",
                            "</table>\n",
                            "</div>"
                        ],
                        "text/plain": [
                            "                                      url  is_spam  \\\n",
                            "0  briefingday us list manage unsubscribe     True   \n",
                            "1                               www hvper     True   \n",
                            "2                             briefingday     True   \n",
                            "3                 briefingday commentform    False   \n",
                            "4                         briefingday fan     True   \n",
                            "\n",
                            "                               url_limpia  \n",
                            "0  briefingday us list manage unsubscribe  \n",
                            "1                               www hvper  \n",
                            "2                             briefingday  \n",
                            "3                 briefingday commentform  \n",
                            "4                         briefingday fan  "
                        ]
                    },
                    "execution_count": 87,
                    "metadata": {},
                    "output_type": "execute_result"
                }
            ],
            "source": [
                "df.head()"
            ]
        },
        {
            "cell_type": "code",
            "execution_count": 88,
            "metadata": {},
            "outputs": [],
            "source": [
                "df['is_spam'] = df['is_spam'].apply(lambda x: 1 if x == True else 0)"
            ]
        },
        {
            "cell_type": "code",
            "execution_count": 89,
            "metadata": {},
            "outputs": [
                {
                    "data": {
                        "text/html": [
                            "<div>\n",
                            "<style scoped>\n",
                            "    .dataframe tbody tr th:only-of-type {\n",
                            "        vertical-align: middle;\n",
                            "    }\n",
                            "\n",
                            "    .dataframe tbody tr th {\n",
                            "        vertical-align: top;\n",
                            "    }\n",
                            "\n",
                            "    .dataframe thead th {\n",
                            "        text-align: right;\n",
                            "    }\n",
                            "</style>\n",
                            "<table border=\"1\" class=\"dataframe\">\n",
                            "  <thead>\n",
                            "    <tr style=\"text-align: right;\">\n",
                            "      <th></th>\n",
                            "      <th>url</th>\n",
                            "      <th>is_spam</th>\n",
                            "      <th>url_limpia</th>\n",
                            "    </tr>\n",
                            "  </thead>\n",
                            "  <tbody>\n",
                            "    <tr>\n",
                            "      <th>0</th>\n",
                            "      <td>briefingday us list manage unsubscribe</td>\n",
                            "      <td>1</td>\n",
                            "      <td>briefingday us list manage unsubscribe</td>\n",
                            "    </tr>\n",
                            "    <tr>\n",
                            "      <th>1</th>\n",
                            "      <td>www hvper</td>\n",
                            "      <td>1</td>\n",
                            "      <td>www hvper</td>\n",
                            "    </tr>\n",
                            "    <tr>\n",
                            "      <th>2</th>\n",
                            "      <td>briefingday</td>\n",
                            "      <td>1</td>\n",
                            "      <td>briefingday</td>\n",
                            "    </tr>\n",
                            "    <tr>\n",
                            "      <th>3</th>\n",
                            "      <td>briefingday commentform</td>\n",
                            "      <td>0</td>\n",
                            "      <td>briefingday commentform</td>\n",
                            "    </tr>\n",
                            "    <tr>\n",
                            "      <th>4</th>\n",
                            "      <td>briefingday fan</td>\n",
                            "      <td>1</td>\n",
                            "      <td>briefingday fan</td>\n",
                            "    </tr>\n",
                            "  </tbody>\n",
                            "</table>\n",
                            "</div>"
                        ],
                        "text/plain": [
                            "                                      url  is_spam  \\\n",
                            "0  briefingday us list manage unsubscribe        1   \n",
                            "1                               www hvper        1   \n",
                            "2                             briefingday        1   \n",
                            "3                 briefingday commentform        0   \n",
                            "4                         briefingday fan        1   \n",
                            "\n",
                            "                               url_limpia  \n",
                            "0  briefingday us list manage unsubscribe  \n",
                            "1                               www hvper  \n",
                            "2                             briefingday  \n",
                            "3                 briefingday commentform  \n",
                            "4                         briefingday fan  "
                        ]
                    },
                    "execution_count": 89,
                    "metadata": {},
                    "output_type": "execute_result"
                }
            ],
            "source": [
                "df.head()"
            ]
        },
        {
            "cell_type": "markdown",
            "metadata": {},
            "source": [
                "**Step 2:** Usar técnicas de NLP para preprocesamiento de datos"
            ]
        },
        {
            "cell_type": "code",
            "execution_count": 90,
            "metadata": {},
            "outputs": [],
            "source": [
                "vec = CountVectorizer().fit_transform(df['url_limpia'])"
            ]
        },
        {
            "cell_type": "code",
            "execution_count": 91,
            "metadata": {},
            "outputs": [],
            "source": [
                "X_train, X_test, y_train, y_test = train_test_split(vec, df['is_spam'], stratify = df['is_spam'], random_state = 2207)"
            ]
        },
        {
            "cell_type": "markdown",
            "metadata": {},
            "source": [
                "**Step 3:** Utilizar SVM para construir un clasificador de spam en URL's"
            ]
        },
        {
            "cell_type": "code",
            "execution_count": 92,
            "metadata": {},
            "outputs": [],
            "source": [
                "classifier = SVC(C = 1.0, kernel = 'linear', gamma = 'auto')"
            ]
        },
        {
            "cell_type": "code",
            "execution_count": 93,
            "metadata": {},
            "outputs": [
                {
                    "name": "stdout",
                    "output_type": "stream",
                    "text": [
                        "              precision    recall  f1-score   support\n",
                        "\n",
                        "           0       0.95      0.96      0.96       532\n",
                        "           1       0.64      0.59      0.62        61\n",
                        "\n",
                        "    accuracy                           0.92       593\n",
                        "   macro avg       0.80      0.78      0.79       593\n",
                        "weighted avg       0.92      0.92      0.92       593\n",
                        "\n"
                    ]
                }
            ],
            "source": [
                "classifier.fit(X_train, y_train)\n",
                "predictions = classifier.predict(X_test)\n",
                "print(classification_report(y_test, predictions))"
            ]
        },
        {
            "cell_type": "code",
            "execution_count": 94,
            "metadata": {},
            "outputs": [
                {
                    "name": "stdout",
                    "output_type": "stream",
                    "text": [
                        "Fitting 5 folds for each of 48 candidates, totalling 240 fits\n",
                        "[CV] END .........................C=0.1, gamma=1, kernel=rbf; total time=   0.2s\n",
                        "[CV] END .........................C=0.1, gamma=1, kernel=rbf; total time=   0.2s\n",
                        "[CV] END .........................C=0.1, gamma=1, kernel=rbf; total time=   0.2s\n",
                        "[CV] END .........................C=0.1, gamma=1, kernel=rbf; total time=   0.2s\n",
                        "[CV] END .........................C=0.1, gamma=1, kernel=rbf; total time=   0.2s\n",
                        "[CV] END ........................C=0.1, gamma=1, kernel=poly; total time=   0.2s\n",
                        "[CV] END ........................C=0.1, gamma=1, kernel=poly; total time=   0.2s\n",
                        "[CV] END ........................C=0.1, gamma=1, kernel=poly; total time=   0.2s\n",
                        "[CV] END ........................C=0.1, gamma=1, kernel=poly; total time=   0.2s\n",
                        "[CV] END ........................C=0.1, gamma=1, kernel=poly; total time=   0.2s\n",
                        "[CV] END .....................C=0.1, gamma=1, kernel=sigmoid; total time=   0.0s\n",
                        "[CV] END .....................C=0.1, gamma=1, kernel=sigmoid; total time=   0.0s\n",
                        "[CV] END .....................C=0.1, gamma=1, kernel=sigmoid; total time=   0.0s\n",
                        "[CV] END .....................C=0.1, gamma=1, kernel=sigmoid; total time=   0.0s\n",
                        "[CV] END .....................C=0.1, gamma=1, kernel=sigmoid; total time=   0.0s\n",
                        "[CV] END .......................C=0.1, gamma=0.1, kernel=rbf; total time=   0.1s\n",
                        "[CV] END .......................C=0.1, gamma=0.1, kernel=rbf; total time=   0.1s\n",
                        "[CV] END .......................C=0.1, gamma=0.1, kernel=rbf; total time=   0.1s\n",
                        "[CV] END .......................C=0.1, gamma=0.1, kernel=rbf; total time=   0.1s\n",
                        "[CV] END .......................C=0.1, gamma=0.1, kernel=rbf; total time=   0.1s\n",
                        "[CV] END ......................C=0.1, gamma=0.1, kernel=poly; total time=   0.1s\n",
                        "[CV] END ......................C=0.1, gamma=0.1, kernel=poly; total time=   0.1s\n",
                        "[CV] END ......................C=0.1, gamma=0.1, kernel=poly; total time=   0.1s\n",
                        "[CV] END ......................C=0.1, gamma=0.1, kernel=poly; total time=   0.1s\n",
                        "[CV] END ......................C=0.1, gamma=0.1, kernel=poly; total time=   0.1s\n",
                        "[CV] END ...................C=0.1, gamma=0.1, kernel=sigmoid; total time=   0.1s\n",
                        "[CV] END ...................C=0.1, gamma=0.1, kernel=sigmoid; total time=   0.1s\n",
                        "[CV] END ...................C=0.1, gamma=0.1, kernel=sigmoid; total time=   0.1s\n",
                        "[CV] END ...................C=0.1, gamma=0.1, kernel=sigmoid; total time=   0.1s\n",
                        "[CV] END ...................C=0.1, gamma=0.1, kernel=sigmoid; total time=   0.1s\n",
                        "[CV] END ......................C=0.1, gamma=0.01, kernel=rbf; total time=   0.1s\n",
                        "[CV] END ......................C=0.1, gamma=0.01, kernel=rbf; total time=   0.1s\n",
                        "[CV] END ......................C=0.1, gamma=0.01, kernel=rbf; total time=   0.1s\n",
                        "[CV] END ......................C=0.1, gamma=0.01, kernel=rbf; total time=   0.1s\n",
                        "[CV] END ......................C=0.1, gamma=0.01, kernel=rbf; total time=   0.1s\n",
                        "[CV] END .....................C=0.1, gamma=0.01, kernel=poly; total time=   0.0s\n",
                        "[CV] END .....................C=0.1, gamma=0.01, kernel=poly; total time=   0.0s\n",
                        "[CV] END .....................C=0.1, gamma=0.01, kernel=poly; total time=   0.0s\n",
                        "[CV] END .....................C=0.1, gamma=0.01, kernel=poly; total time=   0.0s\n",
                        "[CV] END .....................C=0.1, gamma=0.01, kernel=poly; total time=   0.0s\n",
                        "[CV] END ..................C=0.1, gamma=0.01, kernel=sigmoid; total time=   0.1s\n",
                        "[CV] END ..................C=0.1, gamma=0.01, kernel=sigmoid; total time=   0.1s\n",
                        "[CV] END ..................C=0.1, gamma=0.01, kernel=sigmoid; total time=   0.1s\n",
                        "[CV] END ..................C=0.1, gamma=0.01, kernel=sigmoid; total time=   0.1s\n",
                        "[CV] END ..................C=0.1, gamma=0.01, kernel=sigmoid; total time=   0.1s\n",
                        "[CV] END .....................C=0.1, gamma=0.001, kernel=rbf; total time=   0.0s\n",
                        "[CV] END .....................C=0.1, gamma=0.001, kernel=rbf; total time=   0.0s\n",
                        "[CV] END .....................C=0.1, gamma=0.001, kernel=rbf; total time=   0.0s\n",
                        "[CV] END .....................C=0.1, gamma=0.001, kernel=rbf; total time=   0.0s\n",
                        "[CV] END .....................C=0.1, gamma=0.001, kernel=rbf; total time=   0.0s\n",
                        "[CV] END ....................C=0.1, gamma=0.001, kernel=poly; total time=   0.0s\n",
                        "[CV] END ....................C=0.1, gamma=0.001, kernel=poly; total time=   0.0s\n",
                        "[CV] END ....................C=0.1, gamma=0.001, kernel=poly; total time=   0.0s\n",
                        "[CV] END ....................C=0.1, gamma=0.001, kernel=poly; total time=   0.0s\n",
                        "[CV] END ....................C=0.1, gamma=0.001, kernel=poly; total time=   0.0s\n",
                        "[CV] END .................C=0.1, gamma=0.001, kernel=sigmoid; total time=   0.0s\n",
                        "[CV] END .................C=0.1, gamma=0.001, kernel=sigmoid; total time=   0.0s\n",
                        "[CV] END .................C=0.1, gamma=0.001, kernel=sigmoid; total time=   0.0s\n",
                        "[CV] END .................C=0.1, gamma=0.001, kernel=sigmoid; total time=   0.0s\n",
                        "[CV] END .................C=0.1, gamma=0.001, kernel=sigmoid; total time=   0.0s\n",
                        "[CV] END ...........................C=1, gamma=1, kernel=rbf; total time=   0.2s\n",
                        "[CV] END ...........................C=1, gamma=1, kernel=rbf; total time=   0.2s\n",
                        "[CV] END ...........................C=1, gamma=1, kernel=rbf; total time=   0.2s\n",
                        "[CV] END ...........................C=1, gamma=1, kernel=rbf; total time=   0.2s\n",
                        "[CV] END ...........................C=1, gamma=1, kernel=rbf; total time=   0.2s\n",
                        "[CV] END ..........................C=1, gamma=1, kernel=poly; total time=   0.2s\n",
                        "[CV] END ..........................C=1, gamma=1, kernel=poly; total time=   0.2s\n",
                        "[CV] END ..........................C=1, gamma=1, kernel=poly; total time=   0.2s\n",
                        "[CV] END ..........................C=1, gamma=1, kernel=poly; total time=   0.2s\n",
                        "[CV] END ..........................C=1, gamma=1, kernel=poly; total time=   0.2s\n",
                        "[CV] END .......................C=1, gamma=1, kernel=sigmoid; total time=   0.0s\n",
                        "[CV] END .......................C=1, gamma=1, kernel=sigmoid; total time=   0.0s\n",
                        "[CV] END .......................C=1, gamma=1, kernel=sigmoid; total time=   0.0s\n",
                        "[CV] END .......................C=1, gamma=1, kernel=sigmoid; total time=   0.0s\n",
                        "[CV] END .......................C=1, gamma=1, kernel=sigmoid; total time=   0.0s\n",
                        "[CV] END .........................C=1, gamma=0.1, kernel=rbf; total time=   0.1s\n",
                        "[CV] END .........................C=1, gamma=0.1, kernel=rbf; total time=   0.1s\n",
                        "[CV] END .........................C=1, gamma=0.1, kernel=rbf; total time=   0.1s\n",
                        "[CV] END .........................C=1, gamma=0.1, kernel=rbf; total time=   0.1s\n",
                        "[CV] END .........................C=1, gamma=0.1, kernel=rbf; total time=   0.1s\n",
                        "[CV] END ........................C=1, gamma=0.1, kernel=poly; total time=   0.2s\n",
                        "[CV] END ........................C=1, gamma=0.1, kernel=poly; total time=   0.2s\n",
                        "[CV] END ........................C=1, gamma=0.1, kernel=poly; total time=   0.2s\n",
                        "[CV] END ........................C=1, gamma=0.1, kernel=poly; total time=   0.2s\n",
                        "[CV] END ........................C=1, gamma=0.1, kernel=poly; total time=   0.2s\n",
                        "[CV] END .....................C=1, gamma=0.1, kernel=sigmoid; total time=   0.1s\n",
                        "[CV] END .....................C=1, gamma=0.1, kernel=sigmoid; total time=   0.1s\n",
                        "[CV] END .....................C=1, gamma=0.1, kernel=sigmoid; total time=   0.1s\n",
                        "[CV] END .....................C=1, gamma=0.1, kernel=sigmoid; total time=   0.1s\n",
                        "[CV] END .....................C=1, gamma=0.1, kernel=sigmoid; total time=   0.1s\n",
                        "[CV] END ........................C=1, gamma=0.01, kernel=rbf; total time=   0.1s\n",
                        "[CV] END ........................C=1, gamma=0.01, kernel=rbf; total time=   0.1s\n",
                        "[CV] END ........................C=1, gamma=0.01, kernel=rbf; total time=   0.1s\n",
                        "[CV] END ........................C=1, gamma=0.01, kernel=rbf; total time=   0.1s\n",
                        "[CV] END ........................C=1, gamma=0.01, kernel=rbf; total time=   0.1s\n",
                        "[CV] END .......................C=1, gamma=0.01, kernel=poly; total time=   0.0s\n",
                        "[CV] END .......................C=1, gamma=0.01, kernel=poly; total time=   0.0s\n",
                        "[CV] END .......................C=1, gamma=0.01, kernel=poly; total time=   0.0s\n",
                        "[CV] END .......................C=1, gamma=0.01, kernel=poly; total time=   0.0s\n",
                        "[CV] END .......................C=1, gamma=0.01, kernel=poly; total time=   0.0s\n",
                        "[CV] END ....................C=1, gamma=0.01, kernel=sigmoid; total time=   0.1s\n",
                        "[CV] END ....................C=1, gamma=0.01, kernel=sigmoid; total time=   0.1s\n",
                        "[CV] END ....................C=1, gamma=0.01, kernel=sigmoid; total time=   0.1s\n",
                        "[CV] END ....................C=1, gamma=0.01, kernel=sigmoid; total time=   0.1s\n",
                        "[CV] END ....................C=1, gamma=0.01, kernel=sigmoid; total time=   0.1s\n",
                        "[CV] END .......................C=1, gamma=0.001, kernel=rbf; total time=   0.1s\n",
                        "[CV] END .......................C=1, gamma=0.001, kernel=rbf; total time=   0.1s\n",
                        "[CV] END .......................C=1, gamma=0.001, kernel=rbf; total time=   0.1s\n",
                        "[CV] END .......................C=1, gamma=0.001, kernel=rbf; total time=   0.1s\n",
                        "[CV] END .......................C=1, gamma=0.001, kernel=rbf; total time=   0.1s\n",
                        "[CV] END ......................C=1, gamma=0.001, kernel=poly; total time=   0.0s\n",
                        "[CV] END ......................C=1, gamma=0.001, kernel=poly; total time=   0.0s\n",
                        "[CV] END ......................C=1, gamma=0.001, kernel=poly; total time=   0.0s\n",
                        "[CV] END ......................C=1, gamma=0.001, kernel=poly; total time=   0.0s\n",
                        "[CV] END ......................C=1, gamma=0.001, kernel=poly; total time=   0.0s\n",
                        "[CV] END ...................C=1, gamma=0.001, kernel=sigmoid; total time=   0.1s\n",
                        "[CV] END ...................C=1, gamma=0.001, kernel=sigmoid; total time=   0.1s\n",
                        "[CV] END ...................C=1, gamma=0.001, kernel=sigmoid; total time=   0.1s\n",
                        "[CV] END ...................C=1, gamma=0.001, kernel=sigmoid; total time=   0.1s\n",
                        "[CV] END ...................C=1, gamma=0.001, kernel=sigmoid; total time=   0.1s\n",
                        "[CV] END ..........................C=10, gamma=1, kernel=rbf; total time=   0.2s\n",
                        "[CV] END ..........................C=10, gamma=1, kernel=rbf; total time=   0.2s\n",
                        "[CV] END ..........................C=10, gamma=1, kernel=rbf; total time=   0.2s\n",
                        "[CV] END ..........................C=10, gamma=1, kernel=rbf; total time=   0.2s\n",
                        "[CV] END ..........................C=10, gamma=1, kernel=rbf; total time=   0.2s\n",
                        "[CV] END .........................C=10, gamma=1, kernel=poly; total time=   0.2s\n",
                        "[CV] END .........................C=10, gamma=1, kernel=poly; total time=   0.2s\n",
                        "[CV] END .........................C=10, gamma=1, kernel=poly; total time=   0.2s\n",
                        "[CV] END .........................C=10, gamma=1, kernel=poly; total time=   0.2s\n",
                        "[CV] END .........................C=10, gamma=1, kernel=poly; total time=   0.2s\n",
                        "[CV] END ......................C=10, gamma=1, kernel=sigmoid; total time=   0.0s\n",
                        "[CV] END ......................C=10, gamma=1, kernel=sigmoid; total time=   0.0s\n",
                        "[CV] END ......................C=10, gamma=1, kernel=sigmoid; total time=   0.0s\n",
                        "[CV] END ......................C=10, gamma=1, kernel=sigmoid; total time=   0.0s\n",
                        "[CV] END ......................C=10, gamma=1, kernel=sigmoid; total time=   0.0s\n",
                        "[CV] END ........................C=10, gamma=0.1, kernel=rbf; total time=   0.1s\n",
                        "[CV] END ........................C=10, gamma=0.1, kernel=rbf; total time=   0.1s\n",
                        "[CV] END ........................C=10, gamma=0.1, kernel=rbf; total time=   0.1s\n",
                        "[CV] END ........................C=10, gamma=0.1, kernel=rbf; total time=   0.1s\n",
                        "[CV] END ........................C=10, gamma=0.1, kernel=rbf; total time=   0.1s\n",
                        "[CV] END .......................C=10, gamma=0.1, kernel=poly; total time=   0.2s\n",
                        "[CV] END .......................C=10, gamma=0.1, kernel=poly; total time=   0.2s\n",
                        "[CV] END .......................C=10, gamma=0.1, kernel=poly; total time=   0.2s\n",
                        "[CV] END .......................C=10, gamma=0.1, kernel=poly; total time=   0.2s\n",
                        "[CV] END .......................C=10, gamma=0.1, kernel=poly; total time=   0.2s\n",
                        "[CV] END ....................C=10, gamma=0.1, kernel=sigmoid; total time=   0.1s\n",
                        "[CV] END ....................C=10, gamma=0.1, kernel=sigmoid; total time=   0.1s\n",
                        "[CV] END ....................C=10, gamma=0.1, kernel=sigmoid; total time=   0.1s\n",
                        "[CV] END ....................C=10, gamma=0.1, kernel=sigmoid; total time=   0.1s\n",
                        "[CV] END ....................C=10, gamma=0.1, kernel=sigmoid; total time=   0.1s\n",
                        "[CV] END .......................C=10, gamma=0.01, kernel=rbf; total time=   0.1s\n",
                        "[CV] END .......................C=10, gamma=0.01, kernel=rbf; total time=   0.1s\n",
                        "[CV] END .......................C=10, gamma=0.01, kernel=rbf; total time=   0.1s\n",
                        "[CV] END .......................C=10, gamma=0.01, kernel=rbf; total time=   0.1s\n",
                        "[CV] END .......................C=10, gamma=0.01, kernel=rbf; total time=   0.1s\n",
                        "[CV] END ......................C=10, gamma=0.01, kernel=poly; total time=   0.1s\n",
                        "[CV] END ......................C=10, gamma=0.01, kernel=poly; total time=   0.1s\n",
                        "[CV] END ......................C=10, gamma=0.01, kernel=poly; total time=   0.1s\n",
                        "[CV] END ......................C=10, gamma=0.01, kernel=poly; total time=   0.1s\n",
                        "[CV] END ......................C=10, gamma=0.01, kernel=poly; total time=   0.1s\n",
                        "[CV] END ...................C=10, gamma=0.01, kernel=sigmoid; total time=   0.1s\n",
                        "[CV] END ...................C=10, gamma=0.01, kernel=sigmoid; total time=   0.1s\n",
                        "[CV] END ...................C=10, gamma=0.01, kernel=sigmoid; total time=   0.1s\n",
                        "[CV] END ...................C=10, gamma=0.01, kernel=sigmoid; total time=   0.1s\n",
                        "[CV] END ...................C=10, gamma=0.01, kernel=sigmoid; total time=   0.1s\n",
                        "[CV] END ......................C=10, gamma=0.001, kernel=rbf; total time=   0.1s\n",
                        "[CV] END ......................C=10, gamma=0.001, kernel=rbf; total time=   0.1s\n",
                        "[CV] END ......................C=10, gamma=0.001, kernel=rbf; total time=   0.1s\n",
                        "[CV] END ......................C=10, gamma=0.001, kernel=rbf; total time=   0.1s\n",
                        "[CV] END ......................C=10, gamma=0.001, kernel=rbf; total time=   0.1s\n",
                        "[CV] END .....................C=10, gamma=0.001, kernel=poly; total time=   0.0s\n",
                        "[CV] END .....................C=10, gamma=0.001, kernel=poly; total time=   0.0s\n",
                        "[CV] END .....................C=10, gamma=0.001, kernel=poly; total time=   0.0s\n",
                        "[CV] END .....................C=10, gamma=0.001, kernel=poly; total time=   0.0s\n",
                        "[CV] END .....................C=10, gamma=0.001, kernel=poly; total time=   0.0s\n",
                        "[CV] END ..................C=10, gamma=0.001, kernel=sigmoid; total time=   0.1s\n",
                        "[CV] END ..................C=10, gamma=0.001, kernel=sigmoid; total time=   0.1s\n",
                        "[CV] END ..................C=10, gamma=0.001, kernel=sigmoid; total time=   0.1s\n",
                        "[CV] END ..................C=10, gamma=0.001, kernel=sigmoid; total time=   0.1s\n",
                        "[CV] END ..................C=10, gamma=0.001, kernel=sigmoid; total time=   0.1s\n",
                        "[CV] END .........................C=100, gamma=1, kernel=rbf; total time=   0.2s\n",
                        "[CV] END .........................C=100, gamma=1, kernel=rbf; total time=   0.2s\n",
                        "[CV] END .........................C=100, gamma=1, kernel=rbf; total time=   0.2s\n",
                        "[CV] END .........................C=100, gamma=1, kernel=rbf; total time=   0.2s\n",
                        "[CV] END .........................C=100, gamma=1, kernel=rbf; total time=   0.2s\n",
                        "[CV] END ........................C=100, gamma=1, kernel=poly; total time=   0.2s\n",
                        "[CV] END ........................C=100, gamma=1, kernel=poly; total time=   0.2s\n",
                        "[CV] END ........................C=100, gamma=1, kernel=poly; total time=   0.2s\n",
                        "[CV] END ........................C=100, gamma=1, kernel=poly; total time=   0.2s\n",
                        "[CV] END ........................C=100, gamma=1, kernel=poly; total time=   0.2s\n",
                        "[CV] END .....................C=100, gamma=1, kernel=sigmoid; total time=   0.0s\n",
                        "[CV] END .....................C=100, gamma=1, kernel=sigmoid; total time=   0.0s\n",
                        "[CV] END .....................C=100, gamma=1, kernel=sigmoid; total time=   0.0s\n",
                        "[CV] END .....................C=100, gamma=1, kernel=sigmoid; total time=   0.0s\n",
                        "[CV] END .....................C=100, gamma=1, kernel=sigmoid; total time=   0.0s\n",
                        "[CV] END .......................C=100, gamma=0.1, kernel=rbf; total time=   0.1s\n",
                        "[CV] END .......................C=100, gamma=0.1, kernel=rbf; total time=   0.1s\n",
                        "[CV] END .......................C=100, gamma=0.1, kernel=rbf; total time=   0.1s\n",
                        "[CV] END .......................C=100, gamma=0.1, kernel=rbf; total time=   0.1s\n",
                        "[CV] END .......................C=100, gamma=0.1, kernel=rbf; total time=   0.1s\n",
                        "[CV] END ......................C=100, gamma=0.1, kernel=poly; total time=   0.2s\n",
                        "[CV] END ......................C=100, gamma=0.1, kernel=poly; total time=   0.2s\n",
                        "[CV] END ......................C=100, gamma=0.1, kernel=poly; total time=   0.2s\n",
                        "[CV] END ......................C=100, gamma=0.1, kernel=poly; total time=   0.2s\n",
                        "[CV] END ......................C=100, gamma=0.1, kernel=poly; total time=   0.2s\n",
                        "[CV] END ...................C=100, gamma=0.1, kernel=sigmoid; total time=   0.1s\n",
                        "[CV] END ...................C=100, gamma=0.1, kernel=sigmoid; total time=   0.1s\n",
                        "[CV] END ...................C=100, gamma=0.1, kernel=sigmoid; total time=   0.1s\n",
                        "[CV] END ...................C=100, gamma=0.1, kernel=sigmoid; total time=   0.1s\n",
                        "[CV] END ...................C=100, gamma=0.1, kernel=sigmoid; total time=   0.1s\n",
                        "[CV] END ......................C=100, gamma=0.01, kernel=rbf; total time=   0.1s\n",
                        "[CV] END ......................C=100, gamma=0.01, kernel=rbf; total time=   0.1s\n",
                        "[CV] END ......................C=100, gamma=0.01, kernel=rbf; total time=   0.1s\n",
                        "[CV] END ......................C=100, gamma=0.01, kernel=rbf; total time=   0.1s\n",
                        "[CV] END ......................C=100, gamma=0.01, kernel=rbf; total time=   0.1s\n",
                        "[CV] END .....................C=100, gamma=0.01, kernel=poly; total time=   0.1s\n",
                        "[CV] END .....................C=100, gamma=0.01, kernel=poly; total time=   0.1s\n",
                        "[CV] END .....................C=100, gamma=0.01, kernel=poly; total time=   0.1s\n",
                        "[CV] END .....................C=100, gamma=0.01, kernel=poly; total time=   0.1s\n",
                        "[CV] END .....................C=100, gamma=0.01, kernel=poly; total time=   0.1s\n",
                        "[CV] END ..................C=100, gamma=0.01, kernel=sigmoid; total time=   0.1s\n",
                        "[CV] END ..................C=100, gamma=0.01, kernel=sigmoid; total time=   0.1s\n",
                        "[CV] END ..................C=100, gamma=0.01, kernel=sigmoid; total time=   0.1s\n",
                        "[CV] END ..................C=100, gamma=0.01, kernel=sigmoid; total time=   0.1s\n",
                        "[CV] END ..................C=100, gamma=0.01, kernel=sigmoid; total time=   0.1s\n",
                        "[CV] END .....................C=100, gamma=0.001, kernel=rbf; total time=   0.1s\n",
                        "[CV] END .....................C=100, gamma=0.001, kernel=rbf; total time=   0.1s\n",
                        "[CV] END .....................C=100, gamma=0.001, kernel=rbf; total time=   0.1s\n",
                        "[CV] END .....................C=100, gamma=0.001, kernel=rbf; total time=   0.1s\n",
                        "[CV] END .....................C=100, gamma=0.001, kernel=rbf; total time=   0.1s\n",
                        "[CV] END ....................C=100, gamma=0.001, kernel=poly; total time=   0.0s\n",
                        "[CV] END ....................C=100, gamma=0.001, kernel=poly; total time=   0.0s\n",
                        "[CV] END ....................C=100, gamma=0.001, kernel=poly; total time=   0.0s\n",
                        "[CV] END ....................C=100, gamma=0.001, kernel=poly; total time=   0.0s\n",
                        "[CV] END ....................C=100, gamma=0.001, kernel=poly; total time=   0.0s\n",
                        "[CV] END .................C=100, gamma=0.001, kernel=sigmoid; total time=   0.1s\n",
                        "[CV] END .................C=100, gamma=0.001, kernel=sigmoid; total time=   0.1s\n",
                        "[CV] END .................C=100, gamma=0.001, kernel=sigmoid; total time=   0.1s\n",
                        "[CV] END .................C=100, gamma=0.001, kernel=sigmoid; total time=   0.1s\n",
                        "[CV] END .................C=100, gamma=0.001, kernel=sigmoid; total time=   0.1s\n"
                    ]
                },
                {
                    "data": {
                        "text/html": [
                            "<style>#sk-container-id-5 {color: black;background-color: white;}#sk-container-id-5 pre{padding: 0;}#sk-container-id-5 div.sk-toggleable {background-color: white;}#sk-container-id-5 label.sk-toggleable__label {cursor: pointer;display: block;width: 100%;margin-bottom: 0;padding: 0.3em;box-sizing: border-box;text-align: center;}#sk-container-id-5 label.sk-toggleable__label-arrow:before {content: \"▸\";float: left;margin-right: 0.25em;color: #696969;}#sk-container-id-5 label.sk-toggleable__label-arrow:hover:before {color: black;}#sk-container-id-5 div.sk-estimator:hover label.sk-toggleable__label-arrow:before {color: black;}#sk-container-id-5 div.sk-toggleable__content {max-height: 0;max-width: 0;overflow: hidden;text-align: left;background-color: #f0f8ff;}#sk-container-id-5 div.sk-toggleable__content pre {margin: 0.2em;color: black;border-radius: 0.25em;background-color: #f0f8ff;}#sk-container-id-5 input.sk-toggleable__control:checked~div.sk-toggleable__content {max-height: 200px;max-width: 100%;overflow: auto;}#sk-container-id-5 input.sk-toggleable__control:checked~label.sk-toggleable__label-arrow:before {content: \"▾\";}#sk-container-id-5 div.sk-estimator input.sk-toggleable__control:checked~label.sk-toggleable__label {background-color: #d4ebff;}#sk-container-id-5 div.sk-label input.sk-toggleable__control:checked~label.sk-toggleable__label {background-color: #d4ebff;}#sk-container-id-5 input.sk-hidden--visually {border: 0;clip: rect(1px 1px 1px 1px);clip: rect(1px, 1px, 1px, 1px);height: 1px;margin: -1px;overflow: hidden;padding: 0;position: absolute;width: 1px;}#sk-container-id-5 div.sk-estimator {font-family: monospace;background-color: #f0f8ff;border: 1px dotted black;border-radius: 0.25em;box-sizing: border-box;margin-bottom: 0.5em;}#sk-container-id-5 div.sk-estimator:hover {background-color: #d4ebff;}#sk-container-id-5 div.sk-parallel-item::after {content: \"\";width: 100%;border-bottom: 1px solid gray;flex-grow: 1;}#sk-container-id-5 div.sk-label:hover label.sk-toggleable__label {background-color: #d4ebff;}#sk-container-id-5 div.sk-serial::before {content: \"\";position: absolute;border-left: 1px solid gray;box-sizing: border-box;top: 0;bottom: 0;left: 50%;z-index: 0;}#sk-container-id-5 div.sk-serial {display: flex;flex-direction: column;align-items: center;background-color: white;padding-right: 0.2em;padding-left: 0.2em;position: relative;}#sk-container-id-5 div.sk-item {position: relative;z-index: 1;}#sk-container-id-5 div.sk-parallel {display: flex;align-items: stretch;justify-content: center;background-color: white;position: relative;}#sk-container-id-5 div.sk-item::before, #sk-container-id-5 div.sk-parallel-item::before {content: \"\";position: absolute;border-left: 1px solid gray;box-sizing: border-box;top: 0;bottom: 0;left: 50%;z-index: -1;}#sk-container-id-5 div.sk-parallel-item {display: flex;flex-direction: column;z-index: 1;position: relative;background-color: white;}#sk-container-id-5 div.sk-parallel-item:first-child::after {align-self: flex-end;width: 50%;}#sk-container-id-5 div.sk-parallel-item:last-child::after {align-self: flex-start;width: 50%;}#sk-container-id-5 div.sk-parallel-item:only-child::after {width: 0;}#sk-container-id-5 div.sk-dashed-wrapped {border: 1px dashed gray;margin: 0 0.4em 0.5em 0.4em;box-sizing: border-box;padding-bottom: 0.4em;background-color: white;}#sk-container-id-5 div.sk-label label {font-family: monospace;font-weight: bold;display: inline-block;line-height: 1.2em;}#sk-container-id-5 div.sk-label-container {text-align: center;}#sk-container-id-5 div.sk-container {/* jupyter's `normalize.less` sets `[hidden] { display: none; }` but bootstrap.min.css set `[hidden] { display: none !important; }` so we also need the `!important` here to be able to override the default hidden behavior on the sphinx rendered scikit-learn.org. See: https://github.com/scikit-learn/scikit-learn/issues/21755 */display: inline-block !important;position: relative;}#sk-container-id-5 div.sk-text-repr-fallback {display: none;}</style><div id=\"sk-container-id-5\" class=\"sk-top-container\"><div class=\"sk-text-repr-fallback\"><pre>GridSearchCV(estimator=SVC(random_state=1234),\n",
                            "             param_grid={&#x27;C&#x27;: [0.1, 1, 10, 100], &#x27;gamma&#x27;: [1, 0.1, 0.01, 0.001],\n",
                            "                         &#x27;kernel&#x27;: [&#x27;rbf&#x27;, &#x27;poly&#x27;, &#x27;sigmoid&#x27;]},\n",
                            "             verbose=2)</pre><b>In a Jupyter environment, please rerun this cell to show the HTML representation or trust the notebook. <br />On GitHub, the HTML representation is unable to render, please try loading this page with nbviewer.org.</b></div><div class=\"sk-container\" hidden><div class=\"sk-item sk-dashed-wrapped\"><div class=\"sk-label-container\"><div class=\"sk-label sk-toggleable\"><input class=\"sk-toggleable__control sk-hidden--visually\" id=\"sk-estimator-id-9\" type=\"checkbox\" ><label for=\"sk-estimator-id-9\" class=\"sk-toggleable__label sk-toggleable__label-arrow\">GridSearchCV</label><div class=\"sk-toggleable__content\"><pre>GridSearchCV(estimator=SVC(random_state=1234),\n",
                            "             param_grid={&#x27;C&#x27;: [0.1, 1, 10, 100], &#x27;gamma&#x27;: [1, 0.1, 0.01, 0.001],\n",
                            "                         &#x27;kernel&#x27;: [&#x27;rbf&#x27;, &#x27;poly&#x27;, &#x27;sigmoid&#x27;]},\n",
                            "             verbose=2)</pre></div></div></div><div class=\"sk-parallel\"><div class=\"sk-parallel-item\"><div class=\"sk-item\"><div class=\"sk-label-container\"><div class=\"sk-label sk-toggleable\"><input class=\"sk-toggleable__control sk-hidden--visually\" id=\"sk-estimator-id-10\" type=\"checkbox\" ><label for=\"sk-estimator-id-10\" class=\"sk-toggleable__label sk-toggleable__label-arrow\">estimator: SVC</label><div class=\"sk-toggleable__content\"><pre>SVC(random_state=1234)</pre></div></div></div><div class=\"sk-serial\"><div class=\"sk-item\"><div class=\"sk-estimator sk-toggleable\"><input class=\"sk-toggleable__control sk-hidden--visually\" id=\"sk-estimator-id-11\" type=\"checkbox\" ><label for=\"sk-estimator-id-11\" class=\"sk-toggleable__label sk-toggleable__label-arrow\">SVC</label><div class=\"sk-toggleable__content\"><pre>SVC(random_state=1234)</pre></div></div></div></div></div></div></div></div></div></div>"
                        ],
                        "text/plain": [
                            "GridSearchCV(estimator=SVC(random_state=1234),\n",
                            "             param_grid={'C': [0.1, 1, 10, 100], 'gamma': [1, 0.1, 0.01, 0.001],\n",
                            "                         'kernel': ['rbf', 'poly', 'sigmoid']},\n",
                            "             verbose=2)"
                        ]
                    },
                    "execution_count": 94,
                    "metadata": {},
                    "output_type": "execute_result"
                }
            ],
            "source": [
                "# optimizo hiperparámetros\n",
                "param_grid = {'C': [0.1,1, 10, 100], 'gamma': [1,0.1,0.01,0.001],'kernel': ['rbf', 'poly', 'sigmoid']}\n",
                "\n",
                "grid = GridSearchCV(SVC(random_state=1234),param_grid,verbose=2)\n",
                "grid.fit(X_train,y_train)"
            ]
        },
        {
            "cell_type": "code",
            "execution_count": 95,
            "metadata": {},
            "outputs": [
                {
                    "data": {
                        "text/plain": [
                            "{'C': 10, 'gamma': 0.1, 'kernel': 'rbf'}"
                        ]
                    },
                    "execution_count": 95,
                    "metadata": {},
                    "output_type": "execute_result"
                }
            ],
            "source": [
                "grid.best_params_"
            ]
        },
        {
            "cell_type": "code",
            "execution_count": 96,
            "metadata": {},
            "outputs": [
                {
                    "data": {
                        "text/html": [
                            "<style>#sk-container-id-6 {color: black;background-color: white;}#sk-container-id-6 pre{padding: 0;}#sk-container-id-6 div.sk-toggleable {background-color: white;}#sk-container-id-6 label.sk-toggleable__label {cursor: pointer;display: block;width: 100%;margin-bottom: 0;padding: 0.3em;box-sizing: border-box;text-align: center;}#sk-container-id-6 label.sk-toggleable__label-arrow:before {content: \"▸\";float: left;margin-right: 0.25em;color: #696969;}#sk-container-id-6 label.sk-toggleable__label-arrow:hover:before {color: black;}#sk-container-id-6 div.sk-estimator:hover label.sk-toggleable__label-arrow:before {color: black;}#sk-container-id-6 div.sk-toggleable__content {max-height: 0;max-width: 0;overflow: hidden;text-align: left;background-color: #f0f8ff;}#sk-container-id-6 div.sk-toggleable__content pre {margin: 0.2em;color: black;border-radius: 0.25em;background-color: #f0f8ff;}#sk-container-id-6 input.sk-toggleable__control:checked~div.sk-toggleable__content {max-height: 200px;max-width: 100%;overflow: auto;}#sk-container-id-6 input.sk-toggleable__control:checked~label.sk-toggleable__label-arrow:before {content: \"▾\";}#sk-container-id-6 div.sk-estimator input.sk-toggleable__control:checked~label.sk-toggleable__label {background-color: #d4ebff;}#sk-container-id-6 div.sk-label input.sk-toggleable__control:checked~label.sk-toggleable__label {background-color: #d4ebff;}#sk-container-id-6 input.sk-hidden--visually {border: 0;clip: rect(1px 1px 1px 1px);clip: rect(1px, 1px, 1px, 1px);height: 1px;margin: -1px;overflow: hidden;padding: 0;position: absolute;width: 1px;}#sk-container-id-6 div.sk-estimator {font-family: monospace;background-color: #f0f8ff;border: 1px dotted black;border-radius: 0.25em;box-sizing: border-box;margin-bottom: 0.5em;}#sk-container-id-6 div.sk-estimator:hover {background-color: #d4ebff;}#sk-container-id-6 div.sk-parallel-item::after {content: \"\";width: 100%;border-bottom: 1px solid gray;flex-grow: 1;}#sk-container-id-6 div.sk-label:hover label.sk-toggleable__label {background-color: #d4ebff;}#sk-container-id-6 div.sk-serial::before {content: \"\";position: absolute;border-left: 1px solid gray;box-sizing: border-box;top: 0;bottom: 0;left: 50%;z-index: 0;}#sk-container-id-6 div.sk-serial {display: flex;flex-direction: column;align-items: center;background-color: white;padding-right: 0.2em;padding-left: 0.2em;position: relative;}#sk-container-id-6 div.sk-item {position: relative;z-index: 1;}#sk-container-id-6 div.sk-parallel {display: flex;align-items: stretch;justify-content: center;background-color: white;position: relative;}#sk-container-id-6 div.sk-item::before, #sk-container-id-6 div.sk-parallel-item::before {content: \"\";position: absolute;border-left: 1px solid gray;box-sizing: border-box;top: 0;bottom: 0;left: 50%;z-index: -1;}#sk-container-id-6 div.sk-parallel-item {display: flex;flex-direction: column;z-index: 1;position: relative;background-color: white;}#sk-container-id-6 div.sk-parallel-item:first-child::after {align-self: flex-end;width: 50%;}#sk-container-id-6 div.sk-parallel-item:last-child::after {align-self: flex-start;width: 50%;}#sk-container-id-6 div.sk-parallel-item:only-child::after {width: 0;}#sk-container-id-6 div.sk-dashed-wrapped {border: 1px dashed gray;margin: 0 0.4em 0.5em 0.4em;box-sizing: border-box;padding-bottom: 0.4em;background-color: white;}#sk-container-id-6 div.sk-label label {font-family: monospace;font-weight: bold;display: inline-block;line-height: 1.2em;}#sk-container-id-6 div.sk-label-container {text-align: center;}#sk-container-id-6 div.sk-container {/* jupyter's `normalize.less` sets `[hidden] { display: none; }` but bootstrap.min.css set `[hidden] { display: none !important; }` so we also need the `!important` here to be able to override the default hidden behavior on the sphinx rendered scikit-learn.org. See: https://github.com/scikit-learn/scikit-learn/issues/21755 */display: inline-block !important;position: relative;}#sk-container-id-6 div.sk-text-repr-fallback {display: none;}</style><div id=\"sk-container-id-6\" class=\"sk-top-container\"><div class=\"sk-text-repr-fallback\"><pre>SVC(C=10, gamma=0.1, random_state=1234)</pre><b>In a Jupyter environment, please rerun this cell to show the HTML representation or trust the notebook. <br />On GitHub, the HTML representation is unable to render, please try loading this page with nbviewer.org.</b></div><div class=\"sk-container\" hidden><div class=\"sk-item\"><div class=\"sk-estimator sk-toggleable\"><input class=\"sk-toggleable__control sk-hidden--visually\" id=\"sk-estimator-id-12\" type=\"checkbox\" checked><label for=\"sk-estimator-id-12\" class=\"sk-toggleable__label sk-toggleable__label-arrow\">SVC</label><div class=\"sk-toggleable__content\"><pre>SVC(C=10, gamma=0.1, random_state=1234)</pre></div></div></div></div></div>"
                        ],
                        "text/plain": [
                            "SVC(C=10, gamma=0.1, random_state=1234)"
                        ]
                    },
                    "execution_count": 96,
                    "metadata": {},
                    "output_type": "execute_result"
                }
            ],
            "source": [
                "grid.best_estimator_"
            ]
        },
        {
            "cell_type": "code",
            "execution_count": 97,
            "metadata": {},
            "outputs": [
                {
                    "name": "stdout",
                    "output_type": "stream",
                    "text": [
                        "              precision    recall  f1-score   support\n",
                        "\n",
                        "           0       0.95      0.98      0.96       532\n",
                        "           1       0.76      0.52      0.62        61\n",
                        "\n",
                        "    accuracy                           0.93       593\n",
                        "   macro avg       0.85      0.75      0.79       593\n",
                        "weighted avg       0.93      0.93      0.93       593\n",
                        "\n"
                    ]
                }
            ],
            "source": [
                "predictions = grid.best_estimator_.predict(X_test)\n",
                "print(classification_report(y_test, predictions))"
            ]
        },
        {
            "cell_type": "markdown",
            "metadata": {},
            "source": [
                "probar"
            ]
        },
        {
            "cell_type": "code",
            "execution_count": 98,
            "metadata": {},
            "outputs": [],
            "source": [
                "#### MODEL\n",
                "\n",
                "X = df['url']\n",
                "y = df['is_spam'] \n",
                "X_train, X_test, y_train, y_test = train_test_split(X, y, stratify=y, random_state = 42)\n",
                "\n",
                "#Vectorizador\n",
                "vec = CountVectorizer()\n",
                "\n",
                "#create matrix\n",
                "X_train = vec.fit_transform(X_train).toarray()\n",
                "X_test = vec.transform(X_test).toarray()\n",
                "\n",
                "#create the model using SVC\n",
                "svclassifier = SVC(C=1.0, kernel='linear', degree=3, gamma='auto')\n",
                "svclassifier.fit(X_train, y_train)\n",
                "\n",
                "#save the model to file\n",
                "filename = '../models/svc_model.sav' #use absolute path\n",
                "pickle.dump(svclassifier, open(filename, 'wb'))"
            ]
        },
        {
            "cell_type": "markdown",
            "metadata": {},
            "source": [
                "**Step 4:** Crear app.py con el código relevamente y detallar procedimiento en README.md"
            ]
        }
    ],
    "metadata": {
        "kernelspec": {
            "display_name": "Python 3.8.13 64-bit ('3.8.13')",
            "language": "python",
            "name": "python3"
        },
        "language_info": {
            "codemirror_mode": {
                "name": "ipython",
                "version": 3
            },
            "file_extension": ".py",
            "mimetype": "text/x-python",
            "name": "python",
            "nbconvert_exporter": "python",
            "pygments_lexer": "ipython3",
            "version": "3.8.13"
        },
        "orig_nbformat": 4,
        "vscode": {
            "interpreter": {
                "hash": "110cc1dee26208153f2972f08a2ad52b6a56238dc66d48e87fb757ef2996db56"
            }
        }
    },
    "nbformat": 4,
    "nbformat_minor": 2
}
